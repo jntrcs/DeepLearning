{
  "nbformat": 4,
  "nbformat_minor": 0,
  "metadata": {
    "colab": {
      "name": "Lab9.ipynb",
      "version": "0.3.2",
      "provenance": [],
      "collapsed_sections": []
    },
    "kernelspec": {
      "name": "python3",
      "display_name": "Python 3"
    }
  },
  "cells": [
    {
      "metadata": {
        "id": "SthYlmXzUFVP",
        "colab_type": "code",
        "outputId": "fcdba39a-b58e-4682-d206-ea3d74bb63cd",
        "colab": {
          "base_uri": "https://localhost:8080/",
          "height": 1129
        }
      },
      "cell_type": "code",
      "source": [
        "!pip install torch\n",
        "!pip install torchvision\n",
        "!pip install gym\n",
        "!pip install gym[atari]"
      ],
      "execution_count": 0,
      "outputs": [
        {
          "output_type": "stream",
          "text": [
            "Collecting torch\n",
            "\u001b[?25l  Downloading https://files.pythonhosted.org/packages/49/0e/e382bcf1a6ae8225f50b99cc26effa2d4cc6d66975ccf3fa9590efcbedce/torch-0.4.1-cp36-cp36m-manylinux1_x86_64.whl (519.5MB)\n",
            "\u001b[K    100% |████████████████████████████████| 519.5MB 24kB/s \n",
            "tcmalloc: large alloc 1073750016 bytes == 0x59f7c000 @  0x7f1eeb86d2a4 0x591a07 0x5b5d56 0x502e9a 0x506859 0x502209 0x502f3d 0x506859 0x504c28 0x502540 0x502f3d 0x506859 0x504c28 0x502540 0x502f3d 0x506859 0x504c28 0x502540 0x502f3d 0x507641 0x502209 0x502f3d 0x506859 0x504c28 0x502540 0x502f3d 0x507641 0x504c28 0x502540 0x502f3d 0x507641\n",
            "\u001b[?25hInstalling collected packages: torch\n",
            "Successfully installed torch-0.4.1\n",
            "Collecting torchvision\n",
            "\u001b[?25l  Downloading https://files.pythonhosted.org/packages/ca/0d/f00b2885711e08bd71242ebe7b96561e6f6d01fdb4b9dcf4d37e2e13c5e1/torchvision-0.2.1-py2.py3-none-any.whl (54kB)\n",
            "\u001b[K    100% |████████████████████████████████| 61kB 2.3MB/s \n",
            "\u001b[?25hCollecting pillow>=4.1.1 (from torchvision)\n",
            "\u001b[?25l  Downloading https://files.pythonhosted.org/packages/62/94/5430ebaa83f91cc7a9f687ff5238e26164a779cca2ef9903232268b0a318/Pillow-5.3.0-cp36-cp36m-manylinux1_x86_64.whl (2.0MB)\n",
            "\u001b[K    100% |████████████████████████████████| 2.0MB 7.0MB/s \n",
            "\u001b[?25hRequirement already satisfied: numpy in /usr/local/lib/python3.6/dist-packages (from torchvision) (1.14.6)\n",
            "Requirement already satisfied: six in /usr/local/lib/python3.6/dist-packages (from torchvision) (1.11.0)\n",
            "Requirement already satisfied: torch in /usr/local/lib/python3.6/dist-packages (from torchvision) (0.4.1)\n",
            "Installing collected packages: pillow, torchvision\n",
            "  Found existing installation: Pillow 4.0.0\n",
            "    Uninstalling Pillow-4.0.0:\n",
            "      Successfully uninstalled Pillow-4.0.0\n",
            "Successfully installed pillow-5.3.0 torchvision-0.2.1\n",
            "Collecting gym\n",
            "\u001b[?25l  Downloading https://files.pythonhosted.org/packages/d4/22/4ff09745ade385ffe707fb5f053548f0f6a6e7d5e98a2b9d6c07f5b931a7/gym-0.10.9.tar.gz (1.5MB)\n",
            "\u001b[K    100% |████████████████████████████████| 1.5MB 15.3MB/s \n",
            "\u001b[?25hRequirement already satisfied: scipy in /usr/local/lib/python3.6/dist-packages (from gym) (1.1.0)\n",
            "Requirement already satisfied: numpy>=1.10.4 in /usr/local/lib/python3.6/dist-packages (from gym) (1.14.6)\n",
            "Requirement already satisfied: requests>=2.0 in /usr/local/lib/python3.6/dist-packages (from gym) (2.18.4)\n",
            "Requirement already satisfied: six in /usr/local/lib/python3.6/dist-packages (from gym) (1.11.0)\n",
            "Collecting pyglet>=1.2.0 (from gym)\n",
            "\u001b[?25l  Downloading https://files.pythonhosted.org/packages/1c/fc/dad5eaaab68f0c21e2f906a94ddb98175662cc5a654eee404d59554ce0fa/pyglet-1.3.2-py2.py3-none-any.whl (1.0MB)\n",
            "\u001b[K    100% |████████████████████████████████| 1.0MB 22.2MB/s \n",
            "\u001b[?25hRequirement already satisfied: certifi>=2017.4.17 in /usr/local/lib/python3.6/dist-packages (from requests>=2.0->gym) (2018.10.15)\n",
            "Requirement already satisfied: idna<2.7,>=2.5 in /usr/local/lib/python3.6/dist-packages (from requests>=2.0->gym) (2.6)\n",
            "Requirement already satisfied: urllib3<1.23,>=1.21.1 in /usr/local/lib/python3.6/dist-packages (from requests>=2.0->gym) (1.22)\n",
            "Requirement already satisfied: chardet<3.1.0,>=3.0.2 in /usr/local/lib/python3.6/dist-packages (from requests>=2.0->gym) (3.0.4)\n",
            "Requirement already satisfied: future in /usr/local/lib/python3.6/dist-packages (from pyglet>=1.2.0->gym) (0.16.0)\n",
            "Building wheels for collected packages: gym\n",
            "  Running setup.py bdist_wheel for gym ... \u001b[?25l-\b \b\\\b \b|\b \b/\b \bdone\n",
            "\u001b[?25h  Stored in directory: /root/.cache/pip/wheels/6c/3a/0e/b86dee98876bb56cdb482cc1f72201035e46d1baf69d10d028\n",
            "Successfully built gym\n",
            "Installing collected packages: pyglet, gym\n",
            "Successfully installed gym-0.10.9 pyglet-1.3.2\n",
            "Requirement already satisfied: gym[atari] in /usr/local/lib/python3.6/dist-packages (0.10.9)\n",
            "Requirement already satisfied: scipy in /usr/local/lib/python3.6/dist-packages (from gym[atari]) (1.1.0)\n",
            "Requirement already satisfied: requests>=2.0 in /usr/local/lib/python3.6/dist-packages (from gym[atari]) (2.18.4)\n",
            "Requirement already satisfied: numpy>=1.10.4 in /usr/local/lib/python3.6/dist-packages (from gym[atari]) (1.14.6)\n",
            "Requirement already satisfied: pyglet>=1.2.0 in /usr/local/lib/python3.6/dist-packages (from gym[atari]) (1.3.2)\n",
            "Requirement already satisfied: six in /usr/local/lib/python3.6/dist-packages (from gym[atari]) (1.11.0)\n",
            "Requirement already satisfied: Pillow; extra == \"atari\" in /usr/local/lib/python3.6/dist-packages (from gym[atari]) (5.3.0)\n",
            "Collecting atari-py>=0.1.4; extra == \"atari\" (from gym[atari])\n",
            "\u001b[?25l  Downloading https://files.pythonhosted.org/packages/12/23/96ce488af867646277d91c3c9a1f328a5452240fe51df0a5fdf9211d76e0/atari_py-0.1.7-cp36-cp36m-manylinux1_x86_64.whl (2.6MB)\n",
            "\u001b[K    100% |████████████████████████████████| 2.6MB 9.0MB/s \n",
            "\u001b[?25hCollecting PyOpenGL; extra == \"atari\" (from gym[atari])\n",
            "\u001b[?25l  Downloading https://files.pythonhosted.org/packages/9c/1d/4544708aaa89f26c97cc09450bb333a23724a320923e74d73e028b3560f9/PyOpenGL-3.1.0.tar.gz (1.2MB)\n",
            "\u001b[K    100% |████████████████████████████████| 1.2MB 17.9MB/s \n",
            "\u001b[?25hRequirement already satisfied: chardet<3.1.0,>=3.0.2 in /usr/local/lib/python3.6/dist-packages (from requests>=2.0->gym[atari]) (3.0.4)\n",
            "Requirement already satisfied: urllib3<1.23,>=1.21.1 in /usr/local/lib/python3.6/dist-packages (from requests>=2.0->gym[atari]) (1.22)\n",
            "Requirement already satisfied: idna<2.7,>=2.5 in /usr/local/lib/python3.6/dist-packages (from requests>=2.0->gym[atari]) (2.6)\n",
            "Requirement already satisfied: certifi>=2017.4.17 in /usr/local/lib/python3.6/dist-packages (from requests>=2.0->gym[atari]) (2018.10.15)\n",
            "Requirement already satisfied: future in /usr/local/lib/python3.6/dist-packages (from pyglet>=1.2.0->gym[atari]) (0.16.0)\n",
            "Building wheels for collected packages: PyOpenGL\n",
            "  Running setup.py bdist_wheel for PyOpenGL ... \u001b[?25l-\b \b\\\b \b|\b \b/\b \b-\b \b\\\b \b|\b \b/\b \b-\b \b\\\b \b|\b \b/\b \b-\b \b\\\b \b|\b \b/\b \b-\b \bdone\n",
            "\u001b[?25h  Stored in directory: /root/.cache/pip/wheels/6c/00/7f/1dd736f380848720ad79a1a1de5272e0d3f79c15a42968fb58\n",
            "Successfully built PyOpenGL\n",
            "Installing collected packages: atari-py, PyOpenGL\n",
            "Successfully installed PyOpenGL-3.1.0 atari-py-0.1.7\n"
          ],
          "name": "stdout"
        }
      ]
    },
    {
      "metadata": {
        "id": "AAUOnt4CUeLl",
        "colab_type": "code",
        "colab": {}
      },
      "cell_type": "code",
      "source": [
        "import gym\n",
        "import torch\n",
        "import torch\n",
        "import torch.nn as nn\n",
        "import torch.nn.functional as F\n",
        "import torch.optim as optim\n",
        "from torch.utils.data import Dataset, DataLoader\n",
        "import numpy as np\n",
        "import matplotlib.pyplot as plt\n",
        "import torchvision\n",
        "from torchvision import transforms, utils, datasets\n",
        "import torchvision.models as models\n",
        "import os\n",
        "from IPython import display\n",
        "from itertools import chain\n",
        "from tqdm import tqdm\n",
        "from functools import reduce\n",
        "import atari_py\n",
        "\n"
      ],
      "execution_count": 0,
      "outputs": []
    },
    {
      "metadata": {
        "id": "Lzy4MCr2UKF8",
        "colab_type": "code",
        "colab": {}
      },
      "cell_type": "code",
      "source": [
        "\n",
        "\n",
        " \n",
        "class PolicyNetwork(nn.Module):\n",
        "    def __init__(self, inOpts, outOpts):\n",
        "      super(PolicyNetwork, self).__init__()\n",
        "      self.net=nn.Sequential(nn.Linear(inOpts, 10),\n",
        "                            nn.ReLU(), \n",
        "                            nn.Linear(10,10),\n",
        "                            nn.ReLU(),\n",
        "                            nn.Linear(10,10),\n",
        "                            nn.ReLU(),\n",
        "                            nn.Linear(10, outOpts))\n",
        "      self.softmax = nn.Softmax(dim=1)\n",
        "    \n",
        "    def forward(self, env, justProbs=False):\n",
        "      scores= self.net(env)\n",
        "      scores = scores/5\n",
        "      probs=self.softmax(scores)\n",
        "      if justProbs:\n",
        "        return probs\n",
        "      batch_size=env.shape[0]\n",
        "      actions = np.empty((batch_size,1), dtype=np.uint8)\n",
        "      probs_np = probs.cpu().detach().numpy()\n",
        "\n",
        "      for i in range(batch_size):\n",
        "        if probs_np[i][0] >.995:\n",
        "          probs_np[i][0]=.99\n",
        "        action_one_hot = np.random.multinomial(1, probs_np[i])\n",
        "        action_idx = np.argmax(action_one_hot)\n",
        "        actions[i,0] = action_idx\n",
        "      return(probs, actions)\n",
        " \n",
        "\n",
        "class ValueNetwork(nn.Module):\n",
        "    def __init__(self, num):\n",
        "      super(ValueNetwork, self).__init__()\n",
        "      self.num=num\n",
        "      self.net=nn.Sequential(\n",
        "      nn.Linear(self.num,10),\n",
        "      nn.ReLU(),\n",
        "      nn.Linear(10,10), \n",
        "      nn.ReLU(),\n",
        "      nn.Linear(10, 10),\n",
        "      nn.ReLU(),\n",
        "      nn.Linear(10,1))\n",
        "      \n",
        "    def forward(self, x):\n",
        "      return(self.net(x))\n",
        "      \n",
        "      \n",
        "      \n",
        "class AdvantageDataset(Dataset):                                                                                                                    \n",
        "    def __init__(self, experience):                                                                                                                 \n",
        "        super(AdvantageDataset, self).__init__()                                                                                                    \n",
        "        self._exp = experience                                                                                                                      \n",
        "        self._num_runs = len(experience)                                                                                                            \n",
        "        self._length = reduce(lambda acc, x: acc + len(x), experience, 0)                                                                           \n",
        " \n",
        "    def __getitem__(self, index):                                                                                                                   \n",
        "        idx = 0                                                                                                                                     \n",
        "        seen_data = 0                                                                                                                               \n",
        "        current_exp = self._exp[0]                                                                                                                  \n",
        "        while seen_data + len(current_exp) - 1 < index:                                                                                             \n",
        "            seen_data += len(current_exp)                                                                                                           \n",
        "            idx += 1                                                                                                                                \n",
        "            current_exp = self._exp[idx]                                                                                                            \n",
        "        chosen_exp = current_exp[index - seen_data]                                                                                                 \n",
        "        return chosen_exp[0], chosen_exp[4]                                                                                                         \n",
        " \n",
        "    def __len__(self):                                                                                                                              \n",
        "        return self._length                                                                                                                         \n",
        " \n",
        " \n",
        "class PolicyDataset(Dataset):                                                                                                                       \n",
        "    def __init__(self, experience):                                                                                                                 \n",
        "        super(PolicyDataset, self).__init__()                                                                                                       \n",
        "        self._exp = experience                                                                                                                      \n",
        "        self._num_runs = len(experience)                                                                                                            \n",
        "        self._length = reduce(lambda acc, x: acc + len(x), experience, 0)                                                                           \n",
        " \n",
        "    def __getitem__(self, index):                                                                                                                   \n",
        "        idx = 0                                                                                                                                     \n",
        "        seen_data = 0                                                                                                                               \n",
        "        current_exp = self._exp[0]                                                                                                                  \n",
        "        while seen_data + len(current_exp) - 1 < index:                                                                                             \n",
        "            seen_data += len(current_exp)                                                                                                           \n",
        "            idx += 1                                                                                                                                \n",
        "            current_exp = self._exp[idx]                                                                                                            \n",
        "        chosen_exp = current_exp[index - seen_data]                                                                                                 \n",
        "        return chosen_exp                                                                                                                           \n",
        " \n",
        "    def __len__(self):                                                                                                                              \n",
        "        return self._length                                                                                                                         \n",
        " \n",
        " \n",
        "def calc_returns(rollout, gamma):\n",
        "  current_return = 0\n",
        "  for i in reversed(range(len(rollout))):\n",
        "    state, action_dist, action, reward = rollout[i]\n",
        "    ret= reward+gamma*current_return\n",
        "    rollout[i] = (state, action_dist, action, reward, ret)\n",
        "    current_return = ret\n",
        "    \n",
        "def multinomial_likelihood(dist, idx):\n",
        "    return dist[range(dist.shape[0]), idx.long()[:, 0]].unsqueeze(1)\n"
      ],
      "execution_count": 0,
      "outputs": []
    },
    {
      "metadata": {
        "id": "AhXcHjHkVgJc",
        "colab_type": "code",
        "outputId": "d108d059-9b35-4206-e67a-ceb544aa29ae",
        "colab": {
          "base_uri": "https://localhost:8080/",
          "height": 67
        }
      },
      "cell_type": "code",
      "source": [
        "def main():\n",
        " \n",
        "    env = gym.make('CartPole-v0')\n",
        "    \n",
        "    policy = PolicyNetwork(4, 2)\n",
        "    value = ValueNetwork(4)\n",
        "    #Not sure why cuda isn't working, will come back to if necessary\n",
        "    #policy=policy.cuda()\n",
        "    #value=value.cuda()\n",
        "    params = chain(policy.parameters(), value.parameters())\n",
        "    optimizer = optim.Adam(params, lr= .001, betas = (.9, .999), weight_decay=.01)\n",
        "    value_criteria = nn.MSELoss()\n",
        "    \n",
        "    epsilon = .2\n",
        "    ppo_lb = 1-epsilon\n",
        "    ppo_ub = 1+epsilon\n",
        "    \n",
        "    epochs=45\n",
        "    policy_epochs = 5\n",
        "    num_rollouts = 100\n",
        "    max_ep_length= 200\n",
        "    gamma=.99\n",
        "    batch_size=256\n",
        "    val_losses=[]\n",
        "    policy_losses=[]\n",
        "    avg_reward=[]\n",
        "    \n",
        "    loop = tqdm(total=epochs, position = 0, leave=False)\n",
        "    \n",
        "    for e in range(epochs):\n",
        "      #print(e)\n",
        "      experiences=[]\n",
        "      rewards = []\n",
        "      for _ in range(num_rollouts):\n",
        "        current_rollout=[]\n",
        "        s = env.reset()\n",
        "        episode_reward=0\n",
        "        for b in range(max_ep_length):\n",
        "          state = torch.from_numpy(s).float().unsqueeze(0)\n",
        "          action_dist, action = policy(state)\n",
        "          action_dist, action = action_dist[0], action[0]\n",
        "          #print(action)\n",
        "          s_prime, r, t, _ = env.step(action.item())\n",
        "          current_rollout.append((s, action_dist.cpu().detach().numpy(), action, r))\n",
        "          episode_reward+=r\n",
        "          if t: \n",
        "            break\n",
        "          s=s_prime\n",
        "        calc_returns(current_rollout, gamma)\n",
        "        experiences.append(current_rollout)\n",
        "        rewards.append(episode_reward)\n",
        "      \n",
        "      #return(rewards)\n",
        "      #print(len(experiences))\n",
        "      #print(experiences)\n",
        "   \n",
        "      avg_r = np.mean([x[0][4] for x in experiences])\n",
        "      #loop.set_description('average reward: % 6.2f' % (avg_r))\n",
        "      experience_dataset = PolicyDataset(experiences)\n",
        "      data_loader = DataLoader(experience_dataset, batch_size=batch_size,\n",
        "                                 shuffle=True,\n",
        "                                 pin_memory=True)\n",
        "\n",
        "      avg_policy_loss=0\n",
        "      avg_val_loss=0\n",
        "      for i in range(policy_epochs):\n",
        "        avg_policy_loss = 0\n",
        "        avg_val_loss = 0\n",
        "        for state, old_action_dist, old_action, reward, ret in data_loader:\n",
        "          #print(state.size(), old_action_dist.size(), old_action.size(), reward.size(), ret.size())\n",
        "          optimizer.zero_grad()\n",
        "          act_dist=policy(state.float(),True)\n",
        "          current_likelihood = multinomial_likelihood(act_dist, old_action)\n",
        "          old_likelihood = multinomial_likelihood(old_action_dist, old_action)\n",
        "          ratio = (current_likelihood / old_likelihood).squeeze(1)\n",
        "          \n",
        "          expected_returns = value(state.float())\n",
        "          val_loss = value_criteria(expected_returns.squeeze(1), ret.float())\n",
        "          #print(ret.size())\n",
        "          #print(expected_returns.squeeze(1).size())\n",
        "          advantage = ret.float() - expected_returns.squeeze(1)\n",
        "          #print(advantage.size())\n",
        "          #print(ratio.size())\n",
        "          #printaasfd\n",
        "          lhs = ratio * advantage\n",
        "          #print(lhs.size())\n",
        "          rhs = torch.clamp(ratio, ppo_lb, ppo_ub) * advantage\n",
        "          #print(rhs.size())\n",
        "          policy_loss = -torch.mean(torch.min(lhs, rhs))\n",
        "\n",
        "          # For logging\n",
        "          avg_val_loss += val_loss.item()\n",
        "          avg_policy_loss += policy_loss.item()\n",
        "          val_losses.append(val_loss.item())\n",
        "          policy_losses.append(policy_loss.item())\n",
        "\n",
        "          # Backpropagate\n",
        "          loss = policy_loss + val_loss\n",
        "          loss.backward()\n",
        "          optimizer.step()\n",
        "      avg_val_loss /= len(data_loader)\n",
        "      avg_policy_loss /= len(data_loader)\n",
        "      avg_reward.append(avg_r)\n",
        "      loop.set_description('avg reward: % 6.2f, value loss: % 6.2f, policy loss: % 6.2f' % (avg_r, avg_val_loss, avg_policy_loss))\n",
        "      loop.update(1)\n",
        "    return policy, value, val_losses, policy_losses, avg_reward\n",
        "            \n",
        "rewards=main()"
      ],
      "execution_count": 96,
      "outputs": [
        {
          "output_type": "stream",
          "text": [
            "/usr/local/lib/python3.6/dist-packages/gym/envs/registration.py:14: PkgResourcesDeprecationWarning: Parameters to load are deprecated.  Call .resolve and .require separately.\n",
            "  result = entry_point.load(False)\n",
            "avg reward:  85.56, value loss:  207.99, policy loss:  -0.53: 100%|██████████| 45/45 [04:33<00:00,  7.67s/it]"
          ],
          "name": "stderr"
        }
      ]
    },
    {
      "metadata": {
        "id": "JIUbGY5637ZT",
        "colab_type": "code",
        "outputId": "4ba3a165-683a-4393-9151-c5f648df08c7",
        "colab": {
          "base_uri": "https://localhost:8080/",
          "height": 362
        }
      },
      "cell_type": "code",
      "source": [
        "#print(rewards)\n",
        "#plt.plot(rewards[2])\n",
        "#plt.show()\n",
        "#plt.plot(rewards[3])\n",
        "#plt.show()\n",
        "plt.plot(rewards[4][0:25])\n",
        "plt.title(\"Average Reward\")\n",
        "plt.show()\n"
      ],
      "execution_count": 98,
      "outputs": [
        {
          "output_type": "display_data",
          "data": {
            "image/png": "[encoded data removed]",
            "text/plain": [
              "<matplotlib.figure.Figure at 0x7ff53a0435f8>"
            ]
          },
          "metadata": {
            "tags": []
          }
        }
      ]
    },
    {
      "metadata": {
        "id": "L8JDR_W31_zm",
        "colab_type": "code",
        "outputId": "4eb207ed-678f-4036-e393-94b2a97dd7e3",
        "colab": {
          "base_uri": "https://localhost:8080/",
          "height": 1697
        }
      },
      "cell_type": "code",
      "source": [
        "def main():\n",
        "\n",
        "  env = gym.make('MountainCar-v0')\n",
        "  env.reset()\n",
        "  print(env.action_space)\n",
        "  \n",
        "  policy = PolicyNetwork(2, 3)\n",
        "  value = ValueNetwork(2)\n",
        "  #Not sure why cuda isn't working, will come back to if necessary\n",
        "  #policy=policy.cuda()\n",
        "  #value=value.cuda()\n",
        "  params = chain(policy.parameters(), value.parameters())\n",
        "  optimizer = optim.Adam(params, lr= .01, betas = (.9, .999))\n",
        "  value_criteria = nn.MSELoss()\n",
        "\n",
        "  epsilon = .2\n",
        "  ppo_lb = 1-epsilon\n",
        "  ppo_ub = 1+epsilon\n",
        "\n",
        "  epochs=100\n",
        "  policy_epochs = 5\n",
        "  num_rollouts = 100\n",
        "  max_ep_length= 200\n",
        "  gamma=.99\n",
        "  batch_size=256\n",
        "  val_losses=[]\n",
        "  policy_losses=[]\n",
        "  avg_reward=[]\n",
        "  best_location=-.5\n",
        "  best_velocity=0\n",
        "\n",
        "  loop = tqdm(total=epochs, position = 0, leave=False)\n",
        "  #for p in policy.parameters():\n",
        "   # print(p)\n",
        "  madeIt=False\n",
        "  for e in range(epochs):\n",
        "    #print(e)\n",
        "    experiences=[]\n",
        "    rewards = []\n",
        "    for _ in range(num_rollouts):\n",
        "      current_rollout=[]\n",
        "      s = env.reset()\n",
        "      episode_reward=0\n",
        "      for b in range(max_ep_length):\n",
        "        state = torch.from_numpy(s).float().unsqueeze(0)\n",
        "        #print(s)\n",
        "        #print(state)\n",
        "        action_dist, action = policy(state)\n",
        "        action_dist, action = action_dist[0], action[0]\n",
        "        #print(action)\n",
        "        s_prime, r, t, _ = env.step(action.item())\n",
        "        if t and b<199 and not madeIt: \n",
        "          print(\"You made it to the top!!!\")\n",
        "          madeIt=True\n",
        "          epochCounter=0\n",
        "        location = s_prime[0]  \n",
        "        velocity=s_prime[1]\n",
        "        #print(r)\n",
        "        if abs(location+.5) > abs(best_location+.5):\n",
        "          best_location=location\n",
        "          #print(\"New best location\", location)\n",
        "        if (abs(velocity)>abs(best_velocity)):\n",
        "          best_velocity = velocity\n",
        "          print(\"new best velocity:\", velocity)\n",
        "        if not madeIt:\n",
        "          r=-(.007-abs(velocity))/.007\n",
        "        if madeIt:\n",
        "          if epochCounter<20:\n",
        "            epochCounter+=1\n",
        "            r =r*(epochCounter)/20 -  (20-epochCounter)/20 *(.007-abs(velocity))/.007\n",
        "            \n",
        "        #if e>9 & e<25:\n",
        "         #  m = e-15\n",
        "          # r = r*m/14 + abs(velocity)/.07*(14-m)/14\n",
        "        #if b==199:\n",
        "          #print(r)\n",
        "          #print(velocity)\n",
        "        #print(s_prime)\n",
        "        #print(r)\n",
        "        current_rollout.append((s, action_dist.cpu().detach().numpy(), action, r))\n",
        "        episode_reward+=r\n",
        "        if t: \n",
        "          break\n",
        "        s=s_prime\n",
        "      calc_returns(current_rollout, gamma)\n",
        "      experiences.append(current_rollout)\n",
        "      rewards.append(episode_reward)\n",
        "\n",
        "    #return(rewards)\n",
        "    #print(len(experiences))\n",
        "    #print(experiences)\n",
        "    avg_r = np.mean([x[0][4] for x in experiences])\n",
        "    #loop.set_description('average reward: % 6.2f' % (avg_r))\n",
        "    experience_dataset = PolicyDataset(experiences)\n",
        "    data_loader = DataLoader(experience_dataset, batch_size=batch_size,\n",
        "                               shuffle=True,\n",
        "                               pin_memory=True)\n",
        "    avg_policy_loss=0\n",
        "    avg_val_loss=0\n",
        "    for i in range(policy_epochs):\n",
        "      avg_policy_loss = 0\n",
        "      avg_val_loss = 0\n",
        "      for state, old_action_dist, old_action, reward, ret in data_loader:\n",
        "        #print(state.size(), old_action_dist.size(), old_action.size(), reward.size(), ret.size())\n",
        "        optimizer.zero_grad()\n",
        "        act_dist=policy(state.float(),True)\n",
        "        current_likelihood = multinomial_likelihood(act_dist, old_action)\n",
        "        old_likelihood = multinomial_likelihood(old_action_dist, old_action)\n",
        "        ratio = (current_likelihood / old_likelihood).squeeze(1)\n",
        "\n",
        "        expected_returns = value(state.float())\n",
        "        val_loss = value_criteria(expected_returns.squeeze(1), ret.float())\n",
        "        #print(ret.size())\n",
        "        #print(expected_returns.squeeze(1).size())\n",
        "        advantage = ret.float() - expected_returns.squeeze(1)\n",
        "        #print(advantage.size())\n",
        "        #print(ratio.size())\n",
        "        #printaasfd\n",
        "        lhs = ratio * advantage\n",
        "        #print(lhs.size())\n",
        "        rhs = torch.clamp(ratio, ppo_lb, ppo_ub) * advantage\n",
        "        #print(rhs.size())\n",
        "        policy_loss = -torch.mean(torch.min(lhs, rhs))\n",
        "\n",
        "        # For logging\n",
        "        avg_val_loss += val_loss.item()\n",
        "        avg_policy_loss += policy_loss.item()\n",
        "        val_losses.append(val_loss.item())\n",
        "        policy_losses.append(policy_loss.item())\n",
        "\n",
        "        # Backpropagate\n",
        "        loss = policy_loss + val_loss\n",
        "        loss.backward()\n",
        "        optimizer.step()\n",
        "\n",
        "    avg_val_loss /= len(data_loader)\n",
        "    avg_policy_loss /= len(data_loader)\n",
        "    avg_reward.append(avg_r)\n",
        "    loop.set_description('avg reward: % 1.5f, value loss: % 6.2f, policy loss: % 6.2f' % (avg_r, avg_val_loss, avg_policy_loss))\n",
        "    loop.update(1)\n",
        "    #for p in policy.parameters():\n",
        "     # print(p)\n",
        "  return policy, value, val_losses, policy_losses, avg_reward\n",
        "            \n",
        "rewards=main()"
      ],
      "execution_count": 78,
      "outputs": [
        {
          "output_type": "stream",
          "text": [
            "/usr/local/lib/python3.6/dist-packages/gym/envs/registration.py:14: PkgResourcesDeprecationWarning: Parameters to load are deprecated.  Call .resolve and .require separately.\n",
            "  result = entry_point.load(False)\n",
            "\r  0%|          | 0/100 [00:00<?, ?it/s]"
          ],
          "name": "stderr"
        },
        {
          "output_type": "stream",
          "text": [
            "\u001b[33mWARN: gym.spaces.Box autodetected dtype as <class 'numpy.float32'>. Please provide explicit dtype.\u001b[0m\n",
            "Discrete(3)\n",
            "new best velocity: -7.832184772616844e-05\n",
            "new best velocity: 0.0008439434322210839\n",
            "new best velocity: -0.0014022231672778246\n",
            "new best velocity: -0.002471555708810075\n",
            "new best velocity: -0.003522356976295016\n",
            "new best velocity: -0.004546743676511852\n",
            "new best velocity: -0.005214241618767724\n",
            "new best velocity: -0.006046906575875884\n",
            "new best velocity: 0.0065253086793584\n",
            "new best velocity: 0.007541993953204564\n",
            "new best velocity: 0.008502116087549732\n",
            "new best velocity: 0.008975441582054097\n",
            "new best velocity: 0.00905086953306019\n",
            "new best velocity: 0.010058427399425038\n",
            "new best velocity: 0.010990555412161202\n",
            "new best velocity: -0.011742889755754281\n",
            "new best velocity: -0.012161967944347646\n",
            "new best velocity: 0.012175287992823806\n",
            "new best velocity: 0.012444019827648457\n",
            "new best velocity: 0.013619796590725274\n",
            "new best velocity: 0.01469355932414677\n",
            "new best velocity: 0.015510859196448097\n",
            "new best velocity: 0.01630481119373273\n",
            "new best velocity: 0.017359786093812925\n",
            "new best velocity: 0.01807995414340982\n",
            "new best velocity: 0.018269871193752212\n",
            "new best velocity: 0.018665390542005937\n",
            "new best velocity: -0.019092972774610084\n",
            "new best velocity: -0.019721406844840514\n",
            "new best velocity: -0.020325982675964426\n",
            "new best velocity: -0.020781606421429854\n",
            "new best velocity: -0.021234797904526467\n",
            "new best velocity: 0.022252745796145744\n",
            "new best velocity: -0.02229502476961141\n",
            "new best velocity: 0.02258927588500249\n",
            "new best velocity: 0.022787049241175483\n",
            "new best velocity: 0.023814126068869405\n",
            "new best velocity: 0.024334640279477453\n",
            "new best velocity: 0.024567006689276853\n",
            "new best velocity: 0.025321900400926797\n",
            "new best velocity: -0.025415407422283046\n",
            "new best velocity: -0.026939754848641813\n",
            "new best velocity: -0.027265051656911454\n"
          ],
          "name": "stdout"
        },
        {
          "output_type": "stream",
          "text": [
            "avg reward: -26.14023, value loss:  562.68, policy loss:  -0.97:   1%|          | 1/100 [00:07<12:33,  7.61s/it]"
          ],
          "name": "stderr"
        },
        {
          "output_type": "stream",
          "text": [
            "new best velocity: -0.028705206365217534\n",
            "new best velocity: -0.028949827414463777\n",
            "new best velocity: 0.029168040696125937\n",
            "new best velocity: 0.03060306201674431\n",
            "new best velocity: 0.03181054723305959\n",
            "new best velocity: -0.03225067933824307\n",
            "new best velocity: -0.034391229386110854\n",
            "new best velocity: -0.035296594189937455\n",
            "new best velocity: -0.03695059350396363\n"
          ],
          "name": "stdout"
        },
        {
          "output_type": "stream",
          "text": [
            "avg reward: -30.92563, value loss:  458.13, policy loss:  -0.79:   3%|▎         | 3/100 [00:23<12:34,  7.78s/it]"
          ],
          "name": "stderr"
        },
        {
          "output_type": "stream",
          "text": [
            "new best velocity: 0.03769494085642706\n",
            "new best velocity: -0.038825485621695466\n",
            "new best velocity: -0.03906573981758384\n"
          ],
          "name": "stdout"
        },
        {
          "output_type": "stream",
          "text": [
            "avg reward: -6.12356, value loss:  751.25, policy loss:  -0.48:   4%|▍         | 4/100 [00:31<12:27,  7.79s/it]"
          ],
          "name": "stderr"
        },
        {
          "output_type": "stream",
          "text": [
            "new best velocity: -0.039675722628432254\n",
            "new best velocity: -0.04132463421155504\n",
            "new best velocity: -0.04267001959927508\n",
            "new best velocity: -0.04269648759462011\n",
            "new best velocity: 0.042792711249234894\n",
            "new best velocity: 0.04414710793906417\n",
            "new best velocity: 0.04517159875591206\n",
            "new best velocity: -0.045218079950316674\n",
            "new best velocity: -0.04532032358344878\n",
            "new best velocity: -0.0465823222633929\n",
            "new best velocity: -0.04814945787267716\n",
            "new best velocity: -0.049412371008372785\n",
            "new best velocity: -0.0498311181499783\n",
            "new best velocity: -0.049996726323113846\n",
            "new best velocity: -0.051404982082828926\n",
            "new best velocity: -0.05352712056885442\n",
            "new best velocity: -0.0552776214286162\n",
            "new best velocity: -0.056624176352351216\n"
          ],
          "name": "stdout"
        },
        {
          "output_type": "stream",
          "text": [
            "avg reward:  27.35912, value loss:  1197.85, policy loss:  -0.96:   5%|▌         | 5/100 [00:39<12:26,  7.86s/it]"
          ],
          "name": "stderr"
        },
        {
          "output_type": "stream",
          "text": [
            "new best velocity: 0.05676963658335222\n",
            "new best velocity: 0.05837681870661825\n",
            "new best velocity: 0.05955216418501835\n",
            "new best velocity: 0.06028154382859753\n",
            "new best velocity: 0.060568327670410524\n",
            "new best velocity: -0.06073563648361395\n",
            "new best velocity: -0.06226540116917342\n",
            "You made it to the top!!!\n",
            "new best velocity: -0.06259735056940999\n"
          ],
          "name": "stdout"
        },
        {
          "output_type": "stream",
          "text": [
            "avg reward: -85.81149, value loss:  105.29, policy loss:  -0.57:   9%|▉         | 9/100 [01:10<11:52,  7.83s/it]"
          ],
          "name": "stderr"
        },
        {
          "output_type": "stream",
          "text": [
            "new best velocity: -0.06338352167328817\n",
            "new best velocity: -0.065242724148551\n",
            "new best velocity: -0.06562893543704497\n"
          ],
          "name": "stdout"
        },
        {
          "output_type": "stream",
          "text": [
            "avg reward: -84.09631, value loss:  73.76, policy loss:  -0.51:  13%|█▎        | 13/100 [01:40<10:51,  7.48s/it]"
          ],
          "name": "stderr"
        },
        {
          "output_type": "stream",
          "text": [
            "new best velocity: -0.06696216327066207\n"
          ],
          "name": "stdout"
        },
        {
          "output_type": "stream",
          "text": [
            "avg reward: -76.23056, value loss:  59.90, policy loss:  -0.36:  19%|█▉        | 19/100 [02:16<08:14,  6.10s/it]"
          ],
          "name": "stderr"
        },
        {
          "output_type": "stream",
          "text": [
            "new best velocity: -0.06728325705368667\n",
            "new best velocity: -0.06733734874664198\n"
          ],
          "name": "stdout"
        },
        {
          "output_type": "stream",
          "text": [
            "avg reward: -74.42099, value loss:  43.96, policy loss:  -0.52:  23%|██▎       | 23/100 [02:38<07:06,  5.54s/it]"
          ],
          "name": "stderr"
        },
        {
          "output_type": "stream",
          "text": [
            "new best velocity: -0.06819756791043928\n",
            "new best velocity: -0.06860304433044685\n"
          ],
          "name": "stdout"
        },
        {
          "output_type": "stream",
          "text": [
            "avg reward: -72.85041, value loss:  38.18, policy loss:  -0.47:  25%|██▌       | 25/100 [02:49<06:44,  5.39s/it]"
          ],
          "name": "stderr"
        },
        {
          "output_type": "stream",
          "text": [
            "new best velocity: -0.06872188300237475\n"
          ],
          "name": "stdout"
        },
        {
          "output_type": "stream",
          "text": [
            "avg reward: -74.30630, value loss:  33.74, policy loss:  -0.49:  27%|██▋       | 27/100 [03:00<06:37,  5.45s/it]"
          ],
          "name": "stderr"
        },
        {
          "output_type": "stream",
          "text": [
            "new best velocity: -0.0690563772797817\n",
            "new best velocity: -0.06983932845521051\n"
          ],
          "name": "stdout"
        },
        {
          "output_type": "stream",
          "text": [
            "avg reward: -68.33360, value loss:  14.90, policy loss:  -0.46:  32%|███▏      | 32/100 [03:24<05:33,  4.91s/it]"
          ],
          "name": "stderr"
        },
        {
          "output_type": "stream",
          "text": [
            "new best velocity: -0.06998933984384419\n"
          ],
          "name": "stdout"
        },
        {
          "output_type": "stream",
          "text": [
            "avg reward: -69.24737, value loss:  27.32, policy loss:  -0.47:  33%|███▎      | 33/100 [03:29<05:31,  4.94s/it]"
          ],
          "name": "stderr"
        },
        {
          "output_type": "stream",
          "text": [
            "new best velocity: -0.07\n"
          ],
          "name": "stdout"
        },
        {
          "output_type": "stream",
          "text": [
            "avg reward: -71.03624, value loss:  25.80, policy loss:  -0.50: 100%|██████████| 100/100 [08:39<00:00,  5.28s/it]"
          ],
          "name": "stderr"
        }
      ]
    },
    {
      "metadata": {
        "id": "1lu3MFq8TWWq",
        "colab_type": "text"
      },
      "cell_type": "markdown",
      "source": [
        "I helped it learn by initially changing the reward to be the abs(velocity). Once it reaches the flag for the first time I change the reward back to the original, now that it has a strategy on how to gain speed it has an easier time learning and reaches the flag more often."
      ]
    },
    {
      "metadata": {
        "id": "1DMULnFYDjCY",
        "colab_type": "code",
        "outputId": "92996d26-b47a-4000-923a-051b17d87fa1",
        "colab": {
          "base_uri": "https://localhost:8080/",
          "height": 362
        }
      },
      "cell_type": "code",
      "source": [
        "plt.plot(rewards[4][8:88])\n",
        "plt.title(\"Average Reward\")\n",
        "plt.show()"
      ],
      "execution_count": 81,
      "outputs": [
        {
          "output_type": "display_data",
          "data": {
            "image/png": "[encoded data removed]",
            "text/plain": [
              "<matplotlib.figure.Figure at 0x7ff539636eb8>"
            ]
          },
          "metadata": {
            "tags": []
          }
        }
      ]
    },
    {
      "metadata": {
        "id": "TKJ2HJhg-hKP",
        "colab_type": "code",
        "outputId": "0343951a-cb70-4221-a91c-99ff19110c53",
        "colab": {
          "base_uri": "https://localhost:8080/",
          "height": 34
        }
      },
      "cell_type": "code",
      "source": [
        "policy=rewards[0]\n",
        "s=np.array([-.9, -.005])\n",
        "print(policy(torch.from_numpy(s).float().unsqueeze(0)))\n"
      ],
      "execution_count": 93,
      "outputs": [
        {
          "output_type": "stream",
          "text": [
            "(tensor([[0.0221, 0.0179, 0.9600]], grad_fn=<SoftmaxBackward>), array([[2]], dtype=uint8))\n"
          ],
          "name": "stdout"
        }
      ]
    },
    {
      "metadata": {
        "id": "rtWpn2RBHZIf",
        "colab_type": "code",
        "colab": {
          "base_uri": "https://localhost:8080/",
          "height": 34
        },
        "outputId": "7fbf269d-992a-4b21-eb90-ebadd45abff4"
      },
      "cell_type": "code",
      "source": [
        "rewards\n",
        "\n"
      ],
      "execution_count": 74,
      "outputs": [
        {
          "output_type": "execute_result",
          "data": {
            "text/plain": [
              "array([0.3357134 , 0.33793122, 0.3263554 ], dtype=float32)"
            ]
          },
          "metadata": {
            "tags": []
          },
          "execution_count": 74
        }
      ]
    }
  ]
}