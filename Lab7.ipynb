{
  "nbformat": 4,
  "nbformat_minor": 0,
  "metadata": {
    "colab": {
      "name": "Lab7.ipynb",
      "version": "0.3.2",
      "provenance": [],
      "toc_visible": true
    },
    "kernelspec": {
      "display_name": "Python 3",
      "language": "python",
      "name": "python3"
    },
    "accelerator": "GPU"
  },
  "cells": [
    {
      "metadata": {
        "id": "wArePITKUgQG",
        "colab_type": "text"
      },
      "cell_type": "markdown",
      "source": [
        "<img src=\"aiayn.png\">"
      ]
    },
    {
      "metadata": {
        "id": "tSWEk4ttUgQH",
        "colab_type": "text"
      },
      "cell_type": "markdown",
      "source": [
        "> When teaching, I emphasize implementation as a way to understand recent developments in ML. This post is an attempt to keep myself honest along this goal. The recent [\"Attention is All You Need\"]\n",
        "(https://arxiv.org/abs/1706.03762) paper from NIPS 2017 has been instantly impactful paper as a new method for machine translation and potentiall NLP generally. The paper is very clearly written, but the conventional wisdom has been that it is quite difficult to implement correctly. \n",
        ">\n",
        "> In this post I follow the paper through from start to finish and try to implement each component in code. \n",
        "(I have done some minor reordering and skipping from the original paper). This document itself is a working notebook, and should be a completely usable and efficient implementation. To follow along you will first need to install [PyTorch](http://pytorch.org/) and [torchtext](https://github.com/pytorch/text). The complete code is available on [github](https://github.com/harvardnlp/annotated-transformer).\n",
        ">- Alexander \"Sasha\" Rush ([@harvardnlp](https://twitter.com/harvardnlp))\n"
      ]
    },
    {
      "metadata": {
        "id": "ZaYyfFUqUnGY",
        "colab_type": "code",
        "outputId": "142496c9-09ae-4854-f6de-50b13e2a7f8e",
        "colab": {
          "base_uri": "https://localhost:8080/",
          "height": 882
        }
      },
      "cell_type": "code",
      "source": [
        "!pip install http://download.pytorch.org/whl/cu80/torch-0.3.0.post4-cp36-cp36m-linux_x86_64.whl numpy matplotlib spacy\n",
        "!pip install torchtext==0.2.3"
      ],
      "execution_count": 1,
      "outputs": [
        {
          "output_type": "stream",
          "text": [
            "Collecting torch==0.3.0.post4 from http://download.pytorch.org/whl/cu80/torch-0.3.0.post4-cp36-cp36m-linux_x86_64.whl\n",
            "\u001b[?25l  Downloading http://download.pytorch.org/whl/cu80/torch-0.3.0.post4-cp36-cp36m-linux_x86_64.whl (592.3MB)\n",
            "\u001b[K    100% |████████████████████████████████| 592.3MB 3.0MB/s \n",
            "\u001b[?25hRequirement already satisfied: numpy in /usr/local/lib/python3.6/dist-packages (1.14.6)\n",
            "Requirement already satisfied: matplotlib in /usr/local/lib/python3.6/dist-packages (2.1.2)\n",
            "Requirement already satisfied: spacy in /usr/local/lib/python3.6/dist-packages (2.0.16)\n",
            "Requirement already satisfied: pyyaml in /usr/local/lib/python3.6/dist-packages (from torch==0.3.0.post4) (3.13)\n",
            "Requirement already satisfied: python-dateutil>=2.1 in /usr/local/lib/python3.6/dist-packages (from matplotlib) (2.5.3)\n",
            "Requirement already satisfied: six>=1.10 in /usr/local/lib/python3.6/dist-packages (from matplotlib) (1.11.0)\n",
            "Requirement already satisfied: pyparsing!=2.0.4,!=2.1.2,!=2.1.6,>=2.0.1 in /usr/local/lib/python3.6/dist-packages (from matplotlib) (2.2.2)\n",
            "Requirement already satisfied: pytz in /usr/local/lib/python3.6/dist-packages (from matplotlib) (2018.5)\n",
            "Requirement already satisfied: cycler>=0.10 in /usr/local/lib/python3.6/dist-packages (from matplotlib) (0.10.0)\n",
            "Requirement already satisfied: cymem<2.1.0,>=2.0.2 in /usr/local/lib/python3.6/dist-packages (from spacy) (2.0.2)\n",
            "Requirement already satisfied: ujson>=1.35 in /usr/local/lib/python3.6/dist-packages (from spacy) (1.35)\n",
            "Requirement already satisfied: preshed<2.1.0,>=2.0.1 in /usr/local/lib/python3.6/dist-packages (from spacy) (2.0.1)\n",
            "Requirement already satisfied: thinc<6.13.0,>=6.12.0 in /usr/local/lib/python3.6/dist-packages (from spacy) (6.12.0)\n",
            "Requirement already satisfied: regex==2018.01.10 in /usr/local/lib/python3.6/dist-packages (from spacy) (2018.1.10)\n",
            "Requirement already satisfied: dill<0.3,>=0.2 in /usr/local/lib/python3.6/dist-packages (from spacy) (0.2.8.2)\n",
            "Requirement already satisfied: requests<3.0.0,>=2.13.0 in /usr/local/lib/python3.6/dist-packages (from spacy) (2.18.4)\n",
            "Requirement already satisfied: plac<1.0.0,>=0.9.6 in /usr/local/lib/python3.6/dist-packages (from spacy) (0.9.6)\n",
            "Requirement already satisfied: msgpack-numpy<0.4.4 in /usr/local/lib/python3.6/dist-packages (from spacy) (0.4.3.2)\n",
            "Requirement already satisfied: murmurhash<1.1.0,>=0.28.0 in /usr/local/lib/python3.6/dist-packages (from spacy) (1.0.1)\n",
            "Requirement already satisfied: msgpack<1.0.0,>=0.5.6 in /usr/local/lib/python3.6/dist-packages (from thinc<6.13.0,>=6.12.0->spacy) (0.5.6)\n",
            "Requirement already satisfied: tqdm<5.0.0,>=4.10.0 in /usr/local/lib/python3.6/dist-packages (from thinc<6.13.0,>=6.12.0->spacy) (4.27.0)\n",
            "Requirement already satisfied: cytoolz<0.10,>=0.9.0 in /usr/local/lib/python3.6/dist-packages (from thinc<6.13.0,>=6.12.0->spacy) (0.9.0.1)\n",
            "Requirement already satisfied: wrapt<1.11.0,>=1.10.0 in /usr/local/lib/python3.6/dist-packages (from thinc<6.13.0,>=6.12.0->spacy) (1.10.11)\n",
            "Requirement already satisfied: urllib3<1.23,>=1.21.1 in /usr/local/lib/python3.6/dist-packages (from requests<3.0.0,>=2.13.0->spacy) (1.22)\n",
            "Requirement already satisfied: idna<2.7,>=2.5 in /usr/local/lib/python3.6/dist-packages (from requests<3.0.0,>=2.13.0->spacy) (2.6)\n",
            "Requirement already satisfied: chardet<3.1.0,>=3.0.2 in /usr/local/lib/python3.6/dist-packages (from requests<3.0.0,>=2.13.0->spacy) (3.0.4)\n",
            "Requirement already satisfied: certifi>=2017.4.17 in /usr/local/lib/python3.6/dist-packages (from requests<3.0.0,>=2.13.0->spacy) (2018.10.15)\n",
            "Requirement already satisfied: toolz>=0.8.0 in /usr/local/lib/python3.6/dist-packages (from cytoolz<0.10,>=0.9.0->thinc<6.13.0,>=6.12.0->spacy) (0.9.0)\n",
            "Installing collected packages: torch\n",
            "Successfully installed torch-0.3.0.post4\n",
            "Collecting torchtext==0.2.3\n",
            "\u001b[?25l  Downloading https://files.pythonhosted.org/packages/78/90/474d5944d43001a6e72b9aaed5c3e4f77516fbef2317002da2096fd8b5ea/torchtext-0.2.3.tar.gz (42kB)\n",
            "\u001b[K    100% |████████████████████████████████| 51kB 4.2MB/s \n",
            "\u001b[?25hRequirement already satisfied: tqdm in /usr/local/lib/python3.6/dist-packages (from torchtext==0.2.3) (4.27.0)\n",
            "Requirement already satisfied: requests in /usr/local/lib/python3.6/dist-packages (from torchtext==0.2.3) (2.18.4)\n",
            "Requirement already satisfied: idna<2.7,>=2.5 in /usr/local/lib/python3.6/dist-packages (from requests->torchtext==0.2.3) (2.6)\n",
            "Requirement already satisfied: certifi>=2017.4.17 in /usr/local/lib/python3.6/dist-packages (from requests->torchtext==0.2.3) (2018.10.15)\n",
            "Requirement already satisfied: chardet<3.1.0,>=3.0.2 in /usr/local/lib/python3.6/dist-packages (from requests->torchtext==0.2.3) (3.0.4)\n",
            "Requirement already satisfied: urllib3<1.23,>=1.21.1 in /usr/local/lib/python3.6/dist-packages (from requests->torchtext==0.2.3) (1.22)\n",
            "Building wheels for collected packages: torchtext\n",
            "  Running setup.py bdist_wheel for torchtext ... \u001b[?25l-\b \bdone\n",
            "\u001b[?25h  Stored in directory: /root/.cache/pip/wheels/42/a6/f4/b267328bde6bb680094a0c173e8e5627ccc99543abded97204\n",
            "Successfully built torchtext\n",
            "Installing collected packages: torchtext\n",
            "Successfully installed torchtext-0.2.3\n"
          ],
          "name": "stdout"
        }
      ]
    },
    {
      "metadata": {
        "id": "4LTc4HW7UgQI",
        "colab_type": "code",
        "colab": {}
      },
      "cell_type": "code",
      "source": [
        "# Standard PyTorch imports\n",
        "import numpy as np\n",
        "import torch\n",
        "import torch.nn as nn\n",
        "import torch.nn.functional as F\n",
        "import math, copy\n",
        "from torch.autograd import Variable\n",
        "\n",
        "# For plots\n",
        "%matplotlib inline\n",
        "import matplotlib.pyplot as plt\n"
      ],
      "execution_count": 0,
      "outputs": []
    },
    {
      "metadata": {
        "id": "_R749nLNUgQL",
        "colab_type": "text"
      },
      "cell_type": "markdown",
      "source": [
        "* Table of Contents                               \n",
        "{:toc}      "
      ]
    },
    {
      "metadata": {
        "id": "esxhOQubUgQL",
        "colab_type": "text"
      },
      "cell_type": "markdown",
      "source": [
        "# Background"
      ]
    },
    {
      "metadata": {
        "id": "1M-PiEMOUgQM",
        "colab_type": "text"
      },
      "cell_type": "markdown",
      "source": [
        "The goal of reducing sequential computation also forms the foundation of the Extended Neural GPU\n",
        "[16], ByteNet [18] and ConvS2S [9], all of which use convolutional neural networks as basic building\n",
        "block, computing hidden representations in parallel for all input and output positions. In these models,\n",
        "the number of operations required to relate signals from two arbitrary input or output positions grows\n",
        "in the distance between positions, linearly for ConvS2S and logarithmically for ByteNet. This makes\n",
        "it more difficult to learn dependencies between distant positions [12]. In the Transformer this is\n",
        "reduced to a constant number of operations, albeit at the cost of reduced effective resolution due\n",
        "to averaging attention-weighted positions, an effect we counteract with Multi-Head Attention as\n",
        "described in section 3.2.\n",
        "\n",
        "Self-attention, sometimes called intra-attention is an attention mechanism relating different positions\n",
        "of a single sequence in order to compute a representation of the sequence. Self-attention has been\n",
        "used successfully in a variety of tasks including reading comprehension, abstractive summarization,\n",
        "textual entailment and learning task-independent sentence representations [4, 27, 28, 22].\n",
        "End-to-end memory networks are based on a recurrent attention mechanism instead of sequencealigned\n",
        "recurrence and have been shown to perform well on simple-language question answering and\n",
        "language modeling tasks [34].\n",
        "\n",
        "To the best of our knowledge, however, the Transformer is the first transduction model relying\n",
        "entirely on self-attention to compute representations of its input and output without using sequencealigned\n",
        "RNNs or convolution. In the following sections, we will describe the Transformer, motivate\n",
        "self-attention and discuss its advantages over models such as [17, 18] and [9]."
      ]
    },
    {
      "metadata": {
        "id": "84vTAA5TUgQM",
        "colab_type": "text"
      },
      "cell_type": "markdown",
      "source": [
        "# Model Architecture"
      ]
    },
    {
      "metadata": {
        "id": "f-f9BuNsUgQN",
        "colab_type": "text"
      },
      "cell_type": "markdown",
      "source": [
        ""
      ]
    },
    {
      "metadata": {
        "id": "VBOvyU9BUgQN",
        "colab_type": "text"
      },
      "cell_type": "markdown",
      "source": [
        "Most competitive neural sequence transduction models have an encoder-decoder structure [(cite)](cho2014learning,bahdanau2014neural,sutskever14). Here, the encoder maps an input sequence of symbol representations $(x_1, ..., x_n)$ to a sequence of continuous representations $\\mathbf{z} = (z_1, ..., z_n)$. Given $\\mathbf{z}$, the decoder then generates an output sequence $(y_1,...,y_m)$ of symbols one element at a time. At each step the model is auto-regressive [(cite)](graves2013generating), consuming the previously generated symbols as additional input when generating the next. "
      ]
    },
    {
      "metadata": {
        "id": "1AC8KeDJUgQO",
        "colab_type": "code",
        "colab": {}
      },
      "cell_type": "code",
      "source": [
        "class EncoderDecoder(nn.Module):\n",
        "    \"\"\"\n",
        "    A standard Encoder-Decoder architecture. Base model for this and many \n",
        "    other models.\n",
        "    \"\"\"\n",
        "    def __init__(self, encoder, decoder, src_embed, tgt_embed, generator):\n",
        "        super(EncoderDecoder, self).__init__()\n",
        "        self.encoder = encoder\n",
        "        self.decoder = decoder\n",
        "        self.src_embed = src_embed\n",
        "        self.tgt_embed = tgt_embed\n",
        "        self.generator = generator\n",
        "        \n",
        "    def forward(self, src, tgt, src_mask, tgt_mask):\n",
        "        \"Take in and process masked src and target sequences.\"\n",
        "        memory = self.encoder(self.src_embed(src), src_mask)\n",
        "        output = self.decoder(self.tgt_embed(tgt), memory, src_mask, tgt_mask)\n",
        "        return output\n",
        "      \n",
        "    def encode(self, src, src_mask):\n",
        "      return self.encoder(self.src_embed(src), src_mask)\n",
        "    \n",
        "    def decode(self, memory, src_mask, tgt, tgt_mask):\n",
        "        return self.decoder(self.tgt_embed(tgt), memory, src_mask, tgt_mask)"
      ],
      "execution_count": 0,
      "outputs": []
    },
    {
      "metadata": {
        "id": "ip0EXqvEUgQQ",
        "colab_type": "text"
      },
      "cell_type": "markdown",
      "source": [
        "The Transformer follows this overall architecture using stacked self-attention and point-wise, fully connected layers for both the encoder and decoder, shown in the left and right halves of Figure 1, respectively. "
      ]
    },
    {
      "metadata": {
        "id": "qceKK7MDi9uB",
        "colab_type": "code",
        "colab": {}
      },
      "cell_type": "code",
      "source": [
        "#This is on github but not in the notebook originally.\n",
        "class Generator(nn.Module):\n",
        "    \"Define standard linear + softmax generation step.\"\n",
        "    def __init__(self, d_model, vocab):\n",
        "        super(Generator, self).__init__()\n",
        "        self.proj = nn.Linear(d_model, vocab)\n",
        "\n",
        "    def forward(self, x):\n",
        "        return F.log_softmax(self.proj(x), dim=-1)"
      ],
      "execution_count": 0,
      "outputs": []
    },
    {
      "metadata": {
        "id": "q9dznVhQUgQQ",
        "colab_type": "text"
      },
      "cell_type": "markdown",
      "source": [
        "<img src=\"ModalNet-21.png\" width=400px>"
      ]
    },
    {
      "metadata": {
        "id": "euyRXbaMUgQR",
        "colab_type": "text"
      },
      "cell_type": "markdown",
      "source": [
        "## Encoder and Decoder Stacks   \n",
        "\n",
        "### Encoder: \n",
        "\n",
        "The encoder is composed of a stack of $N=6$ identical layers. "
      ]
    },
    {
      "metadata": {
        "id": "6yy7pY85UgQR",
        "colab_type": "code",
        "colab": {}
      },
      "cell_type": "code",
      "source": [
        "def clones(module, N):\n",
        "    \"Produce N identical layers.\"\n",
        "    return nn.ModuleList([copy.deepcopy(module) for _ in range(N)])"
      ],
      "execution_count": 0,
      "outputs": []
    },
    {
      "metadata": {
        "id": "psiq5idJUgQT",
        "colab_type": "code",
        "colab": {}
      },
      "cell_type": "code",
      "source": [
        "class Encoder(nn.Module):\n",
        "    \"Core encoder is a stack of N layers\"\n",
        "    def __init__(self, layer, N):\n",
        "        super(Encoder, self).__init__()\n",
        "        self.layers = clones(layer, N)\n",
        "        self.norm = LayerNorm(layer.size)\n",
        "        \n",
        "    def forward(self, x, mask):\n",
        "        \"Pass the input (and mask) through each layer in turn.\"\n",
        "        for layer in self.layers:\n",
        "            x = layer(x, mask)\n",
        "        return self.norm(x)"
      ],
      "execution_count": 0,
      "outputs": []
    },
    {
      "metadata": {
        "id": "Mie9sUeSUgQV",
        "colab_type": "text"
      },
      "cell_type": "markdown",
      "source": [
        "We employ a residual connection [(cite)](he2016deep) around each of the two sub-layers, followed by layer normalization [(cite)](layernorm2016).  "
      ]
    },
    {
      "metadata": {
        "id": "sEz9kLClUgQV",
        "colab_type": "code",
        "colab": {}
      },
      "cell_type": "code",
      "source": [
        "class LayerNorm(nn.Module):\n",
        "    \"Construct a layernorm module (See citation for details).\"\n",
        "    def __init__(self, features, eps=1e-6):\n",
        "        super(LayerNorm, self).__init__()\n",
        "        self.a_2 = nn.Parameter(torch.ones(features))\n",
        "        self.b_2 = nn.Parameter(torch.zeros(features))\n",
        "        self.eps = eps\n",
        "\n",
        "    def forward(self, x):\n",
        "        mean = x.mean(-1, keepdim=True)\n",
        "        std = x.std(-1, keepdim=True)\n",
        "        return self.a_2 * (x - mean) / (std + self.eps) + self.b_2"
      ],
      "execution_count": 0,
      "outputs": []
    },
    {
      "metadata": {
        "id": "nx4On5PCUgQY",
        "colab_type": "text"
      },
      "cell_type": "markdown",
      "source": [
        "That is, the output of each sub-layer is $\\mathrm{LayerNorm}(x + \\mathrm{Sublayer}(x))$, where $\\mathrm{Sublayer}(x)$ is the function implemented by the sub-layer itself.  We apply dropout [(cite)](srivastava2014dropout) to the output of each sub-layer, before it is added to the sub-layer input and normalized.  \n",
        "\n",
        "To facilitate these residual connections, all sub-layers in the model, as well as the embedding layers, produce outputs of dimension $d_{\\text{model}}=512$.  "
      ]
    },
    {
      "metadata": {
        "id": "zx9JBwAcUgQY",
        "colab_type": "code",
        "colab": {}
      },
      "cell_type": "code",
      "source": [
        "class SublayerConnection(nn.Module):\n",
        "    \"\"\"\n",
        "    A residual connection followed by a layer norm.\n",
        "    Note for code simplicity we apply the norm first as opposed to last.\n",
        "    \"\"\"\n",
        "    def __init__(self, size, dropout):\n",
        "        super(SublayerConnection, self).__init__()\n",
        "        self.norm = LayerNorm(size)\n",
        "        self.dropout = nn.Dropout(dropout)\n",
        "\n",
        "    def forward(self, x, sublayer):\n",
        "        \"Apply residual connection to any sublayer function that maintains the same size.\"\n",
        "        return x + self.dropout(sublayer(self.norm(x)))"
      ],
      "execution_count": 0,
      "outputs": []
    },
    {
      "metadata": {
        "id": "ZduB6mIlUgQa",
        "colab_type": "text"
      },
      "cell_type": "markdown",
      "source": [
        "Each layer has two sub-layers. The first is a multi-head self-attention mechanism, and the second is a simple, position-wise fully connected feed-forward network."
      ]
    },
    {
      "metadata": {
        "id": "0mEBw9tIUgQb",
        "colab_type": "code",
        "colab": {}
      },
      "cell_type": "code",
      "source": [
        "class EncoderLayer(nn.Module):\n",
        "    \"Encoder is made up of two sublayers, self-attn and feed forward (defined below)\"\n",
        "    def __init__(self, size, self_attn, feed_forward, dropout):\n",
        "        super(EncoderLayer, self).__init__()\n",
        "        self.self_attn = self_attn\n",
        "        self.feed_forward = feed_forward\n",
        "        self.sublayer = clones(SublayerConnection(size, dropout), 2)\n",
        "        self.size = size\n",
        "\n",
        "    def forward(self, x, mask):\n",
        "        \"Follow Figure 1 (left) for connections.\"\n",
        "        x = self.sublayer[0](x, lambda x: self.self_attn(x, x, x, mask))\n",
        "        return self.sublayer[1](x, self.feed_forward)"
      ],
      "execution_count": 0,
      "outputs": []
    },
    {
      "metadata": {
        "id": "iHOZnpnBUgQd",
        "colab_type": "text"
      },
      "cell_type": "markdown",
      "source": [
        "### Decoder:\n",
        "\n",
        "The decoder is also composed of a stack of $N=6$ identical layers.  \n"
      ]
    },
    {
      "metadata": {
        "id": "3o_ZB42sUgQd",
        "colab_type": "code",
        "colab": {}
      },
      "cell_type": "code",
      "source": [
        "class Decoder(nn.Module):\n",
        "    \"Generic N layer decoder with masking.\"\n",
        "    def __init__(self, layer, N):\n",
        "        super(Decoder, self).__init__()\n",
        "        self.layers = clones(layer, N)\n",
        "        self.norm = LayerNorm(layer.size)\n",
        "        \n",
        "    def forward(self, x, memory, src_mask, tgt_mask):\n",
        "        for layer in self.layers:\n",
        "            x = layer(x, memory, src_mask, tgt_mask)\n",
        "        return self.norm(x)"
      ],
      "execution_count": 0,
      "outputs": []
    },
    {
      "metadata": {
        "id": "dOi_W1qaUgQf",
        "colab_type": "text"
      },
      "cell_type": "markdown",
      "source": [
        "In addition to the two sub-layers in each encoder layer, the decoder inserts a third sub-layer, which performs multi-head attention over the output of the encoder stack.  Similar to the encoder, we employ residual connections around each of the sub-layers, followed by layer normalization.  "
      ]
    },
    {
      "metadata": {
        "id": "kMm6xHWVUgQg",
        "colab_type": "code",
        "colab": {}
      },
      "cell_type": "code",
      "source": [
        "class DecoderLayer(nn.Module):\n",
        "    \"Decoder is made up of three sublayers, self-attn, src-attn, and feed forward (defined below)\"\n",
        "    def __init__(self, size, self_attn, src_attn, feed_forward, dropout):\n",
        "        super(DecoderLayer, self).__init__()\n",
        "        self.size = size\n",
        "        self.self_attn = self_attn\n",
        "        self.src_attn = src_attn\n",
        "        self.feed_forward = feed_forward\n",
        "        self.sublayer = clones(SublayerConnection(size, dropout), 3)\n",
        " \n",
        "    def forward(self, x, memory, src_mask, tgt_mask):\n",
        "        \"Follow Figure 1 (right) for connections.\"\n",
        "        m = memory\n",
        "        x = self.sublayer[0](x, lambda x: self.self_attn(x, x, x, tgt_mask))\n",
        "        x = self.sublayer[1](x, lambda x: self.src_attn(x, m, m, src_mask))\n",
        "        return self.sublayer[2](x, self.feed_forward)"
      ],
      "execution_count": 0,
      "outputs": []
    },
    {
      "metadata": {
        "id": "3Nen9h7wUgQi",
        "colab_type": "text"
      },
      "cell_type": "markdown",
      "source": [
        "We also modify the self-attention sub-layer in the decoder stack to prevent positions from attending to subsequent positions.  This masking, combined with fact that the output embeddings are offset by one position, ensures that the predictions for position $i$ can depend only on the known outputs at positions less than $i$."
      ]
    },
    {
      "metadata": {
        "id": "RyQKI9AgUgQj",
        "colab_type": "code",
        "colab": {}
      },
      "cell_type": "code",
      "source": [
        "def subsequent_mask(size):\n",
        "    \"Mask out subsequent positions.\"\n",
        "    attn_shape = (1, size, size)\n",
        "    subsequent_mask = np.triu(np.ones(attn_shape), k=1).astype('uint8')\n",
        "    return torch.from_numpy(subsequent_mask) == 0"
      ],
      "execution_count": 0,
      "outputs": []
    },
    {
      "metadata": {
        "id": "fgQMtvM-UgQl",
        "colab_type": "code",
        "outputId": "7a82f917-3a16-4564-ab08-db90b8cc2d61",
        "colab": {
          "base_uri": "https://localhost:8080/",
          "height": 358
        }
      },
      "cell_type": "code",
      "source": [
        "# The attention mask shows the position each tgt word (row) is allowed to look at (column).\n",
        "# Words are blocked for attending to future words during training. \n",
        "plt.figure(figsize=(5,5))\n",
        "plt.imshow(subsequent_mask(20)[0])"
      ],
      "execution_count": 13,
      "outputs": [
        {
          "output_type": "execute_result",
          "data": {
            "text/plain": [
              "<matplotlib.image.AxesImage at 0x7f89a08ed048>"
            ]
          },
          "metadata": {
            "tags": []
          },
          "execution_count": 13
        },
        {
          "output_type": "display_data",
          "data": {
            "image/png": "[encoded data removed]",
            "text/plain": [
              "<matplotlib.figure.Figure at 0x7f89a091c358>"
            ]
          },
          "metadata": {
            "tags": []
          }
        }
      ]
    },
    {
      "metadata": {
        "id": "fl2E1IaqUgQq",
        "colab_type": "text"
      },
      "cell_type": "markdown",
      "source": [
        ""
      ]
    },
    {
      "metadata": {
        "id": "3twSbimFUgQq",
        "colab_type": "text"
      },
      "cell_type": "markdown",
      "source": [
        "### Attention:                                                                                                                                                                                                                                                                               \n",
        "An attention function can be described as mapping a query and a set of key-value pairs to an output, where the query, keys, values, and output are all vectors.  The output is computed as a weighted sum of the values, where the weight assigned to each value is computed by a compatibility function of the query with the corresponding key.                                                                                                                                                                                                                                                                                           \n",
        "\n",
        "We call our particular attention \"Scaled Dot-Product Attention\".   The input consists of queries and keys of dimension $d_k$, and values of dimension $d_v$.  We compute the dot products of the query with all keys, divide each by $\\sqrt{d_k}$, and apply a softmax function to obtain the weights on the values.                                                                                                         \n",
        "<img width=\"220px\" src=\"ModalNet-19.png\">\n",
        "\n",
        "In practice, we compute the attention function on a set of queries simultaneously, packed together into a matrix $Q$.   The keys and values are also packed together into matrices $K$ and $V$.  We compute the matrix of outputs as:                      \n",
        "                                                                 \n",
        "$$                                                                         \n",
        "   \\mathrm{Attention}(Q, K, V) = \\mathrm{softmax}(\\frac{QK^T}{\\sqrt{d_k}})V               \n",
        "$$                                                                                                                                                                                                        \n",
        "                                                                                                                                                                     "
      ]
    },
    {
      "metadata": {
        "id": "wlZ8zw9PUgQr",
        "colab_type": "code",
        "colab": {}
      },
      "cell_type": "code",
      "source": [
        "def attention(query, key, value, mask=None, dropout=0.0):\n",
        "    \"Compute 'Scaled Dot Product Attention'\"\n",
        "    d_k = query.size(-1)\n",
        "    scores = torch.matmul(query, key.transpose(-2, -1)) \\\n",
        "             / math.sqrt(d_k)\n",
        "    if mask is not None:\n",
        "        scores = scores.masked_fill(mask == 0, -1e9)\n",
        "    p_attn = F.softmax(scores, dim = -1)\n",
        "    # (Dropout described below)\n",
        "    p_attn = F.dropout(p_attn, p=dropout)\n",
        "    return torch.matmul(p_attn, value), p_attn"
      ],
      "execution_count": 0,
      "outputs": []
    },
    {
      "metadata": {
        "id": "AV7cIqbrUgQs",
        "colab_type": "text"
      },
      "cell_type": "markdown",
      "source": [
        "The two most commonly used attention functions are additive attention [(cite)](bahdanau2014neural), and dot-product (multiplicative) attention.  Dot-product attention is identical to our algorithm, except for the scaling factor of $\\frac{1}{\\sqrt{d_k}}$. Additive attention computes the compatibility function using a feed-forward network with a single hidden layer.  While the two are similar in theoretical complexity, dot-product attention is much faster and more space-efficient in practice, since it can be implemented using highly optimized matrix multiplication code.                                                                                             \n",
        "\n",
        "                                                                        \n",
        "While for small values of $d_k$ the two mechanisms perform similarly, additive attention outperforms dot product attention without scaling for larger values of $d_k$ [(cite)](DBLP:journals/corr/BritzGLL17). We suspect that for large values of $d_k$, the dot products grow large in magnitude, pushing the softmax function into regions where it has extremely small gradients  (To illustrate why the dot products get large, assume that the components of $q$ and $k$ are independent random variables with mean $0$ and variance $1$.  Then their dot product, $q \\cdot k = \\sum_{i=1}^{d_k} q_ik_i$, has mean $0$ and variance $d_k$.). To counteract this effect, we scale the dot products by $\\frac{1}{\\sqrt{d_k}}$.          "
      ]
    },
    {
      "metadata": {
        "id": "OV7kNMbKUgQt",
        "colab_type": "text"
      },
      "cell_type": "markdown",
      "source": [
        " "
      ]
    },
    {
      "metadata": {
        "id": "uiaCxaGGUgQt",
        "colab_type": "text"
      },
      "cell_type": "markdown",
      "source": [
        "### Multi-Head Attention                                                                                                                                                                                                                                                                                                                                                                                                                               \n",
        "                                                                                                                                                                                                                                                                                                                                                                                                                                                                                          \n",
        "Instead of performing a single attention function with $d_{\\text{model}}$-dimensional keys, values and queries, we found it beneficial to linearly project the queries, keys and values $h$ times with different, learned linear projections to $d_k$, $d_k$ and $d_v$ dimensions, respectively.                                                                                                                                                                                                   \n",
        "On each of these projected versions of queries, keys and values we then perform the attention function in parallel, yielding $d_v$-dimensional output values. These are concatenated and once again projected, resulting in the final values:\n",
        "\n",
        "<img width=\"270px\" src=\"ModalNet-20.png\">\n",
        "                                                                                                                                                                                                                                                                                                                                                                                                                                                                                          \n",
        "Multi-head attention allows the model to jointly attend to information from different representation subspaces at different positions. With a single attention head, averaging inhibits this.                                                                                                                                                                                                                                                                                             \n",
        "    \n",
        "    \n",
        "   \n",
        "$$    \n",
        "\\mathrm{MultiHead}(Q, K, V) = \\mathrm{Concat}(\\mathrm{head_1}, ..., \\mathrm{head_h})W^O    \\\\                                           \n",
        "    \\text{where}~\\mathrm{head_i} = \\mathrm{Attention}(QW^Q_i, KW^K_i, VW^V_i)                                \n",
        "$$                                                                                                                                                                                                                                                                                                                                                                         \n",
        "                                                                                                                                                                                                                                                                                                                                                                                                                                                                                          \n",
        "Where the projections are parameter matrices $W^Q_i \\in \\mathbb{R}^{d_{\\text{model}} \\times d_k}$, $W^K_i \\in \\mathbb{R}^{d_{\\text{model}} \\times d_k}$, $W^V_i \\in \\mathbb{R}^{d_{\\text{model}} \\times d_v}$ and $W^O \\in \\mathbb{R}^{hd_v \\times d_{\\text{model}}}$.                                                                                                                                                                                                                                                        \n",
        "   \n",
        "\n",
        "   \n",
        "In this work we employ $h=8$ parallel attention layers, or heads. For each of these we use $d_k=d_v=d_{\\text{model}}/h=64$. Due to the reduced dimension of each head, the total computational cost is similar to that of single-head attention with full dimensionality.   "
      ]
    },
    {
      "metadata": {
        "id": "_ea0UrEgUgQt",
        "colab_type": "code",
        "colab": {}
      },
      "cell_type": "code",
      "source": [
        "class MultiHeadedAttention(nn.Module):\n",
        "    def __init__(self, h, d_model, dropout=0.1):\n",
        "        \"Take in model size and number of heads.\"\n",
        "        super(MultiHeadedAttention, self).__init__()\n",
        "        assert d_model % h == 0\n",
        "        # We assume d_v always equals d_k\n",
        "        self.d_k = d_model // h\n",
        "        self.h = h\n",
        "        self.p = dropout\n",
        "        self.linears = clones(nn.Linear(d_model, d_model), 4)\n",
        "        self.attn = None\n",
        "        \n",
        "    def forward(self, query, key, value, mask=None):\n",
        "        \"Implements Figure 2\"\n",
        "        if mask is not None:\n",
        "            # Same mask applied to all h heads.\n",
        "            mask = mask.unsqueeze(1)\n",
        "        nbatches = query.size(0)\n",
        "        \n",
        "        # 1) Do all the linear projections in batch from d_model => h x d_k \n",
        "        query, key, value = [l(x).view(nbatches, -1, self.h, self.d_k).transpose(1, 2)\n",
        "                             for l, x in zip(self.linears, (query, key, value))]\n",
        "        \n",
        "        # 2) Apply attention on all the projected vectors in batch. \n",
        "        x, self.attn = attention(query, key, value, mask=mask, dropout=self.p)\n",
        "        \n",
        "        # 3) \"Concat\" using a view and apply a final linear. \n",
        "        x = x.transpose(1, 2).contiguous().view(nbatches, -1, self.h * self.d_k)\n",
        "        return self.linears[-1](x)"
      ],
      "execution_count": 0,
      "outputs": []
    },
    {
      "metadata": {
        "id": "aVdpQ_KwUgQv",
        "colab_type": "text"
      },
      "cell_type": "markdown",
      "source": [
        "### Applications of Attention in our Model                                                                                                                                                      \n",
        "The Transformer uses multi-head attention in three different ways:                                                        \n",
        "1) In \"encoder-decoder attention\" layers, the queries come from the previous decoder layer, and the memory keys and values come from the output of the encoder.   This allows every position in the decoder to attend over all positions in the input sequence.  This mimics the typical encoder-decoder attention mechanisms in sequence-to-sequence models such as [(cite)](wu2016google, bahdanau2014neural,JonasFaceNet2017).    \n",
        "\n",
        "\n",
        "2) The encoder contains self-attention layers.  In a self-attention layer all of the keys, values and queries come from the same place, in this case, the output of the previous layer in the encoder.   Each position in the encoder can attend to all positions in the previous layer of the encoder.                                                   \n",
        "\n",
        "\n",
        "3) Similarly, self-attention layers in the decoder allow each position in the decoder to attend to all positions in the decoder up to and including that position.  We need to prevent leftward information flow in the decoder to preserve the auto-regressive property.  We implement this inside of scaled dot-product attention by masking out (setting to $-\\infty$) all values in the input of the softmax which correspond to illegal connections.                                                                                                                                                                                                                                                      "
      ]
    },
    {
      "metadata": {
        "id": "gERLhK-FUgQw",
        "colab_type": "text"
      },
      "cell_type": "markdown",
      "source": [
        "## Position-wise Feed-Forward Networks                                                                                                                                                                                                                                                                                                                                                             \n",
        "                                                                                                                                                                                                                                                                                                                                                                                                                                                                                          \n",
        "In addition to attention sub-layers, each of the layers in our encoder and decoder contains a fully connected feed-forward network, which is applied to each position separately and identically.  This consists of two linear transformations with a ReLU activation in between.\n",
        "\n",
        "$$\\mathrm{FFN}(x)=\\max(0, xW_1 + b_1) W_2 + b_2$$                                                                                                                                                                                                                                                         \n",
        "                                                                                                                                                                                                                                                        \n",
        "While the linear transformations are the same across different positions, they use different parameters from layer to layer. Another way of describing this is as two convolutions with kernel size 1.  The dimensionality of input and output is $d_{\\text{model}}=512$, and the inner-layer has dimensionality $d_{ff}=2048$. "
      ]
    },
    {
      "metadata": {
        "id": "HuDPthO2UgQx",
        "colab_type": "code",
        "colab": {}
      },
      "cell_type": "code",
      "source": [
        "class PositionwiseFeedForward(nn.Module):\n",
        "    \"Implements FFN equation.\"\n",
        "    def __init__(self, d_model, d_ff, dropout=0.1):\n",
        "        super(PositionwiseFeedForward, self).__init__()\n",
        "        # Torch linears have a `b` by default. \n",
        "        self.w_1 = nn.Linear(d_model, d_ff)\n",
        "        self.w_2 = nn.Linear(d_ff, d_model)\n",
        "        self.dropout = nn.Dropout(dropout)\n",
        "\n",
        "    def forward(self, x):\n",
        "        return self.w_2(self.dropout(F.relu(self.w_1(x))))"
      ],
      "execution_count": 0,
      "outputs": []
    },
    {
      "metadata": {
        "id": "68VLwifsUgQz",
        "colab_type": "text"
      },
      "cell_type": "markdown",
      "source": [
        "## Embeddings and Softmax                                                                                                                                                                                                                                                                                           \n",
        "Similarly to other sequence transduction models, we use learned embeddings to convert the input tokens and output tokens to vectors of dimension $d_{\\text{model}}$.  We also use the usual learned linear transformation and softmax function to convert the decoder output to predicted next-token probabilities.  In our model, we share the same weight matrix between the two embedding layers and the pre-softmax linear transformation, similar to [(cite)](press2016using). In the embedding layers, we multiply those weights by $\\sqrt{d_{\\text{model}}}$.                                                                                                                                 "
      ]
    },
    {
      "metadata": {
        "id": "sl5JzPeGUgQz",
        "colab_type": "code",
        "colab": {}
      },
      "cell_type": "code",
      "source": [
        "class Embeddings(nn.Module):\n",
        "    def __init__(self, d_model, vocab):\n",
        "        super(Embeddings, self).__init__()\n",
        "        self.lut = nn.Embedding(vocab, d_model)\n",
        "        self.d_model = d_model\n",
        "\n",
        "    def forward(self, x):\n",
        "        return self.lut(x) * math.sqrt(self.d_model)"
      ],
      "execution_count": 0,
      "outputs": []
    },
    {
      "metadata": {
        "id": "F_hw5TyCUgQ1",
        "colab_type": "text"
      },
      "cell_type": "markdown",
      "source": [
        "## Positional Encoding                                                                                                                             \n",
        "Since our model contains no recurrence and no convolution, in order for the model to make use of the order of the sequence, we must inject some information about the relative or absolute position of the tokens in the sequence.  To this end, we add \"positional encodings\" to the input embeddings at the bottoms of the encoder and decoder stacks.  The positional encodings have the same dimension $d_{\\text{model}}$ as the embeddings, so that the two can be summed.   There are many choices of positional encodings, learned and fixed [(cite)](JonasFaceNet2017). \n",
        "\n",
        "In this work, we use sine and cosine functions of different frequencies:                                                                                                                                                                                                                                                                                                                                                                                                                                                                                                                                  \n",
        "$$                                                                                                                                                                                                                                                                                                                                                                                                                                                                            \n",
        "    PE_{(pos,2i)} = sin(pos / 10000^{2i/d_{\\text{model}}}) \\\\                                                                                                                                                                                                                                                                                                                                                                                                                                      \n",
        "    PE_{(pos,2i+1)} = cos(pos / 10000^{2i/d_{\\text{model}}})                                                                                                                                                                                                                                                                                                                                                                                                                                       \n",
        "$$                                                                                                                                                                                                                                                        \n",
        "where $pos$ is the position and $i$ is the dimension.  That is, each dimension of the positional encoding corresponds to a sinusoid.  The wavelengths form a geometric progression from $2\\pi$ to $10000 \\cdot 2\\pi$.  We chose this function because we hypothesized it would allow the model to easily learn to attend by relative positions, since for any fixed offset $k$, $PE_{pos+k}$ can be represented as a linear function of $PE_{pos}$. \n",
        "\n",
        "In addition, we apply dropout to the sums of the embeddings and the positional encodings in both the encoder and decoder stacks.  For the base model, we use a rate of $P_{drop}=0.1$. \n",
        "                                                                                                                                                                                                                                                    \n"
      ]
    },
    {
      "metadata": {
        "id": "MVsjhp6uUgQ1",
        "colab_type": "code",
        "colab": {}
      },
      "cell_type": "code",
      "source": [
        "class PositionalEncoding(nn.Module):\n",
        "    \"Implement the PE function.\"\n",
        "    def __init__(self, d_model, dropout, max_len=5000):\n",
        "        super(PositionalEncoding, self).__init__()\n",
        "        self.dropout = nn.Dropout(p=dropout)\n",
        "        \n",
        "        # Compute the positional encodings once in log space.\n",
        "        pe = torch.zeros(max_len, d_model)\n",
        "        position = torch.arange(0, max_len).unsqueeze(1)\n",
        "        div_term = torch.exp(torch.arange(0, d_model, 2) *\n",
        "                             -(math.log(10000.0) / d_model))\n",
        "        pe[:, 0::2] = torch.sin(position * div_term)\n",
        "        pe[:, 1::2] = torch.cos(position * div_term)\n",
        "        pe = pe.unsqueeze(0)\n",
        "        self.register_buffer('pe', pe)\n",
        "        \n",
        "    def forward(self, x):\n",
        "        x = x + Variable(self.pe[:, :x.size(1)], requires_grad=False)\n",
        "        return self.dropout(x)"
      ],
      "execution_count": 0,
      "outputs": []
    },
    {
      "metadata": {
        "id": "qMsBRCuLUgQ3",
        "colab_type": "code",
        "outputId": "063a45c7-8f84-4ba3-ad7c-3ee1d724b315",
        "colab": {
          "base_uri": "https://localhost:8080/",
          "height": 340
        }
      },
      "cell_type": "code",
      "source": [
        "# The positional encoding will add in a sine wave based on position.\n",
        "# The frequency and offset of the wave is different for each dimension.\n",
        "plt.figure(figsize=(15, 5))\n",
        "pe = PositionalEncoding(20, 0)\n",
        "y = pe.forward(Variable(torch.zeros(1, 100, 20)))\n",
        "plt.plot(np.arange(100), y[0, :, 4:8].data.numpy())\n",
        "plt.legend([\"dim %d\"%p for p in [4,5,6,7]])\n",
        "None"
      ],
      "execution_count": 19,
      "outputs": [
        {
          "output_type": "display_data",
          "data": {
            "image/png": "[encoded data removed]",
            "text/plain": [
              "<matplotlib.figure.Figure at 0x7f89a08c8be0>"
            ]
          },
          "metadata": {
            "tags": []
          }
        }
      ]
    },
    {
      "metadata": {
        "id": "6HjtmgH1UgQ5",
        "colab_type": "text"
      },
      "cell_type": "markdown",
      "source": [
        "We also experimented with using learned positional embeddings [(cite)](JonasFaceNet2017) instead, and found that the two versions produced nearly identical results.  We chose the sinusoidal version because it may allow the model to extrapolate to sequence lengths longer than the ones encountered during training.    "
      ]
    },
    {
      "metadata": {
        "id": "ZtnFnHH9UgQ6",
        "colab_type": "text"
      },
      "cell_type": "markdown",
      "source": [
        "## Generation"
      ]
    },
    {
      "metadata": {
        "id": "heaKRIaZUgQ6",
        "colab_type": "code",
        "colab": {}
      },
      "cell_type": "code",
      "source": [
        "class Generator(nn.Module):\n",
        "    \"Standard generation step. (Not described in the paper.)\"\n",
        "    def __init__(self, d_model, vocab):\n",
        "        super(Generator, self).__init__()\n",
        "        self.proj = nn.Linear(d_model, vocab)\n",
        "\n",
        "    def forward(self, x):\n",
        "        return F.log_softmax(self.proj(x), dim=-1)"
      ],
      "execution_count": 0,
      "outputs": []
    },
    {
      "metadata": {
        "id": "0i97-Y7AUgQ8",
        "colab_type": "code",
        "colab": {}
      },
      "cell_type": "code",
      "source": [
        ""
      ],
      "execution_count": 0,
      "outputs": []
    },
    {
      "metadata": {
        "id": "dd3lP9fTUgQ9",
        "colab_type": "text"
      },
      "cell_type": "markdown",
      "source": [
        "## Full Model"
      ]
    },
    {
      "metadata": {
        "id": "b-LDhRoaUgQ-",
        "colab_type": "code",
        "colab": {}
      },
      "cell_type": "code",
      "source": [
        "def make_model(src_vocab, tgt_vocab, N=6, d_model=512, d_ff=2048, h=8, dropout=0.1):\n",
        "    \"Construct a model object based on hyperparameters.\"\n",
        "    c = copy.deepcopy\n",
        "    attn = MultiHeadedAttention(h, d_model, dropout)\n",
        "    ff = PositionwiseFeedForward(d_model, d_ff, dropout)\n",
        "    position = PositionalEncoding(d_model, dropout)\n",
        "    model = EncoderDecoder(\n",
        "        Encoder(EncoderLayer(d_model, c(attn), c(ff), dropout), N),\n",
        "        Decoder(DecoderLayer(d_model, c(attn), c(attn), c(ff), dropout), N),\n",
        "        nn.Sequential(Embeddings(d_model, src_vocab), c(position)),\n",
        "        nn.Sequential(Embeddings(d_model, tgt_vocab), c(position)),\n",
        "        Generator(d_model, tgt_vocab))\n",
        "    \n",
        "    # This was important from their code. Initialize parameters with Glorot or fan_avg.\n",
        "    for p in model.parameters():\n",
        "        if p.dim() > 1:\n",
        "            nn.init.xavier_uniform(p)\n",
        "    return model"
      ],
      "execution_count": 0,
      "outputs": []
    },
    {
      "metadata": {
        "id": "qP-g4KfhUgQ_",
        "colab_type": "code",
        "outputId": "1b748e6f-6cdb-42fa-ee87-dd6fc6214d69",
        "colab": {
          "base_uri": "https://localhost:8080/",
          "height": 2976
        }
      },
      "cell_type": "code",
      "source": [
        "# Small example model.\n",
        "tmp_model = make_model(10, 10, 2)\n",
        "tmp_model"
      ],
      "execution_count": 22,
      "outputs": [
        {
          "output_type": "execute_result",
          "data": {
            "text/plain": [
              "EncoderDecoder(\n",
              "  (encoder): Encoder(\n",
              "    (layers): ModuleList(\n",
              "      (0): EncoderLayer(\n",
              "        (self_attn): MultiHeadedAttention(\n",
              "          (linears): ModuleList(\n",
              "            (0): Linear(in_features=512, out_features=512)\n",
              "            (1): Linear(in_features=512, out_features=512)\n",
              "            (2): Linear(in_features=512, out_features=512)\n",
              "            (3): Linear(in_features=512, out_features=512)\n",
              "          )\n",
              "        )\n",
              "        (feed_forward): PositionwiseFeedForward(\n",
              "          (w_1): Linear(in_features=512, out_features=2048)\n",
              "          (w_2): Linear(in_features=2048, out_features=512)\n",
              "          (dropout): Dropout(p=0.1)\n",
              "        )\n",
              "        (sublayer): ModuleList(\n",
              "          (0): SublayerConnection(\n",
              "            (norm): LayerNorm(\n",
              "            )\n",
              "            (dropout): Dropout(p=0.1)\n",
              "          )\n",
              "          (1): SublayerConnection(\n",
              "            (norm): LayerNorm(\n",
              "            )\n",
              "            (dropout): Dropout(p=0.1)\n",
              "          )\n",
              "        )\n",
              "      )\n",
              "      (1): EncoderLayer(\n",
              "        (self_attn): MultiHeadedAttention(\n",
              "          (linears): ModuleList(\n",
              "            (0): Linear(in_features=512, out_features=512)\n",
              "            (1): Linear(in_features=512, out_features=512)\n",
              "            (2): Linear(in_features=512, out_features=512)\n",
              "            (3): Linear(in_features=512, out_features=512)\n",
              "          )\n",
              "        )\n",
              "        (feed_forward): PositionwiseFeedForward(\n",
              "          (w_1): Linear(in_features=512, out_features=2048)\n",
              "          (w_2): Linear(in_features=2048, out_features=512)\n",
              "          (dropout): Dropout(p=0.1)\n",
              "        )\n",
              "        (sublayer): ModuleList(\n",
              "          (0): SublayerConnection(\n",
              "            (norm): LayerNorm(\n",
              "            )\n",
              "            (dropout): Dropout(p=0.1)\n",
              "          )\n",
              "          (1): SublayerConnection(\n",
              "            (norm): LayerNorm(\n",
              "            )\n",
              "            (dropout): Dropout(p=0.1)\n",
              "          )\n",
              "        )\n",
              "      )\n",
              "    )\n",
              "    (norm): LayerNorm(\n",
              "    )\n",
              "  )\n",
              "  (decoder): Decoder(\n",
              "    (layers): ModuleList(\n",
              "      (0): DecoderLayer(\n",
              "        (self_attn): MultiHeadedAttention(\n",
              "          (linears): ModuleList(\n",
              "            (0): Linear(in_features=512, out_features=512)\n",
              "            (1): Linear(in_features=512, out_features=512)\n",
              "            (2): Linear(in_features=512, out_features=512)\n",
              "            (3): Linear(in_features=512, out_features=512)\n",
              "          )\n",
              "        )\n",
              "        (src_attn): MultiHeadedAttention(\n",
              "          (linears): ModuleList(\n",
              "            (0): Linear(in_features=512, out_features=512)\n",
              "            (1): Linear(in_features=512, out_features=512)\n",
              "            (2): Linear(in_features=512, out_features=512)\n",
              "            (3): Linear(in_features=512, out_features=512)\n",
              "          )\n",
              "        )\n",
              "        (feed_forward): PositionwiseFeedForward(\n",
              "          (w_1): Linear(in_features=512, out_features=2048)\n",
              "          (w_2): Linear(in_features=2048, out_features=512)\n",
              "          (dropout): Dropout(p=0.1)\n",
              "        )\n",
              "        (sublayer): ModuleList(\n",
              "          (0): SublayerConnection(\n",
              "            (norm): LayerNorm(\n",
              "            )\n",
              "            (dropout): Dropout(p=0.1)\n",
              "          )\n",
              "          (1): SublayerConnection(\n",
              "            (norm): LayerNorm(\n",
              "            )\n",
              "            (dropout): Dropout(p=0.1)\n",
              "          )\n",
              "          (2): SublayerConnection(\n",
              "            (norm): LayerNorm(\n",
              "            )\n",
              "            (dropout): Dropout(p=0.1)\n",
              "          )\n",
              "        )\n",
              "      )\n",
              "      (1): DecoderLayer(\n",
              "        (self_attn): MultiHeadedAttention(\n",
              "          (linears): ModuleList(\n",
              "            (0): Linear(in_features=512, out_features=512)\n",
              "            (1): Linear(in_features=512, out_features=512)\n",
              "            (2): Linear(in_features=512, out_features=512)\n",
              "            (3): Linear(in_features=512, out_features=512)\n",
              "          )\n",
              "        )\n",
              "        (src_attn): MultiHeadedAttention(\n",
              "          (linears): ModuleList(\n",
              "            (0): Linear(in_features=512, out_features=512)\n",
              "            (1): Linear(in_features=512, out_features=512)\n",
              "            (2): Linear(in_features=512, out_features=512)\n",
              "            (3): Linear(in_features=512, out_features=512)\n",
              "          )\n",
              "        )\n",
              "        (feed_forward): PositionwiseFeedForward(\n",
              "          (w_1): Linear(in_features=512, out_features=2048)\n",
              "          (w_2): Linear(in_features=2048, out_features=512)\n",
              "          (dropout): Dropout(p=0.1)\n",
              "        )\n",
              "        (sublayer): ModuleList(\n",
              "          (0): SublayerConnection(\n",
              "            (norm): LayerNorm(\n",
              "            )\n",
              "            (dropout): Dropout(p=0.1)\n",
              "          )\n",
              "          (1): SublayerConnection(\n",
              "            (norm): LayerNorm(\n",
              "            )\n",
              "            (dropout): Dropout(p=0.1)\n",
              "          )\n",
              "          (2): SublayerConnection(\n",
              "            (norm): LayerNorm(\n",
              "            )\n",
              "            (dropout): Dropout(p=0.1)\n",
              "          )\n",
              "        )\n",
              "      )\n",
              "    )\n",
              "    (norm): LayerNorm(\n",
              "    )\n",
              "  )\n",
              "  (src_embed): Sequential(\n",
              "    (0): Embeddings(\n",
              "      (lut): Embedding(10, 512)\n",
              "    )\n",
              "    (1): PositionalEncoding(\n",
              "      (dropout): Dropout(p=0.1)\n",
              "    )\n",
              "  )\n",
              "  (tgt_embed): Sequential(\n",
              "    (0): Embeddings(\n",
              "      (lut): Embedding(10, 512)\n",
              "    )\n",
              "    (1): PositionalEncoding(\n",
              "      (dropout): Dropout(p=0.1)\n",
              "    )\n",
              "  )\n",
              "  (generator): Generator(\n",
              "    (proj): Linear(in_features=512, out_features=10)\n",
              "  )\n",
              ")"
            ]
          },
          "metadata": {
            "tags": []
          },
          "execution_count": 22
        }
      ]
    },
    {
      "metadata": {
        "id": "MuV1e8nEUgRB",
        "colab_type": "text"
      },
      "cell_type": "markdown",
      "source": [
        "# Training\n",
        "\n",
        "This section describes the training regime for our models.\n"
      ]
    },
    {
      "metadata": {
        "id": "OhVxtlZaUgRC",
        "colab_type": "code",
        "colab": {}
      },
      "cell_type": "code",
      "source": [
        ""
      ],
      "execution_count": 0,
      "outputs": []
    },
    {
      "metadata": {
        "id": "naFpt_GUUgRD",
        "colab_type": "code",
        "colab": {}
      },
      "cell_type": "code",
      "source": [
        ""
      ],
      "execution_count": 0,
      "outputs": []
    },
    {
      "metadata": {
        "id": "X60DPvyaUgRF",
        "colab_type": "code",
        "colab": {}
      },
      "cell_type": "code",
      "source": [
        ""
      ],
      "execution_count": 0,
      "outputs": []
    },
    {
      "metadata": {
        "id": "Lz6n3REAUgRH",
        "colab_type": "text"
      },
      "cell_type": "markdown",
      "source": [
        "## Training Data and Batching\n",
        "\n",
        "We trained on the standard WMT 2014 English-German dataset consisting of about 4.5 million sentence pairs.  Sentences were encoded using byte-pair encoding \\citep{DBLP:journals/corr/BritzGLL17}, which has a shared source-target vocabulary of about 37000 tokens. For English-French, we used the significantly larger WMT 2014 English-French dataset consisting of 36M sentences and split tokens into a 32000 word-piece vocabulary [(cite)](wu2016google). \n",
        "\n",
        "\n",
        "Sentence pairs were batched together by approximate sequence length.  Each training batch contained a set of sentence pairs containing approximately 25000 source tokens and 25000 target tokens.     "
      ]
    },
    {
      "metadata": {
        "id": "PRoJURieUgRH",
        "colab_type": "code",
        "colab": {}
      },
      "cell_type": "code",
      "source": [
        ""
      ],
      "execution_count": 0,
      "outputs": []
    },
    {
      "metadata": {
        "id": "52xwbbb4UgRK",
        "colab_type": "text"
      },
      "cell_type": "markdown",
      "source": [
        "## Hardware and Schedule                                                                                                                                                                                                   \n",
        "We trained our models on one machine with 8 NVIDIA P100 GPUs.  For our base models using the hyperparameters described throughout the paper, each training step took about 0.4 seconds.  We trained the base models for a total of 100,000 steps or 12 hours.  For our big models, step time was 1.0 seconds.  The big models were trained for 300,000 steps (3.5 days)."
      ]
    },
    {
      "metadata": {
        "id": "MPp__T_uUgRK",
        "colab_type": "text"
      },
      "cell_type": "markdown",
      "source": [
        "## Optimizer\n",
        "\n",
        "We used the Adam optimizer [(cite)](kingma2014adam) with $\\beta_1=0.9$, $\\beta_2=0.98$ and $\\epsilon=10^{-9}$.  We varied the learning rate over the course of training, according to the formula:                                                                                            \n",
        "$$                                                                                                                                                                                                                                                                                         \n",
        "lrate = d_{\\text{model}}^{-0.5} \\cdot                                                                                                                                                                                                                                                                                                \n",
        "  \\min({step\\_num}^{-0.5},                                                                                                                                                                                                                                                                                                  \n",
        "    {step\\_num} \\cdot {warmup\\_steps}^{-1.5})                                                                                                                                                                                                                                                                               \n",
        "$$                                                                                                                                                                                             \n",
        "This corresponds to increasing the learning rate linearly for the first $warmup\\_steps$ training steps, and decreasing it thereafter proportionally to the inverse square root of the step number.  We used $warmup\\_steps=4000$.                            "
      ]
    },
    {
      "metadata": {
        "id": "Q5yV0f2QUgRL",
        "colab_type": "code",
        "colab": {}
      },
      "cell_type": "code",
      "source": [
        "# Note: This part is incredibly important. \n",
        "# Need to train with this setup of the model is very unstable.\n",
        "class NoamOpt:\n",
        "    \"Optim wrapper that implements rate.\"\n",
        "    def __init__(self, model_size, factor, warmup, optimizer):\n",
        "        self.optimizer = optimizer\n",
        "        self._step = 0\n",
        "        self.warmup = warmup\n",
        "        self.factor = factor\n",
        "        self.model_size = model_size\n",
        "        self._rate = 0\n",
        "        \n",
        "    def step(self):\n",
        "        \"Update parameters and rate\"\n",
        "        self._step += 1\n",
        "        rate = self.rate()\n",
        "        for p in self.optimizer.param_groups:\n",
        "            p['lr'] = rate\n",
        "        self._rate = rate\n",
        "        self.optimizer.step()\n",
        "        \n",
        "    def rate(self, step = None):\n",
        "        \"Implement `lrate` above\"\n",
        "        if step is None:\n",
        "            step = self._step\n",
        "        return self.factor * \\\n",
        "            (self.model_size ** (-0.5) *\n",
        "            min(step ** (-0.5), step * self.warmup**(-1.5)))\n",
        "        \n",
        "def get_std_opt(model):\n",
        "    return NoamOpt(model.src_embed[0].d_model, 2, 4000,\n",
        "            torch.optim.Adam(model.parameters(), lr=0, betas=(0.9, 0.98), eps=1e-9))"
      ],
      "execution_count": 0,
      "outputs": []
    },
    {
      "metadata": {
        "id": "FM5n1PJxUgRN",
        "colab_type": "text"
      },
      "cell_type": "markdown",
      "source": [
        ""
      ]
    },
    {
      "metadata": {
        "id": "PC2wCVEFUgRO",
        "colab_type": "code",
        "outputId": "eb63996d-e270-4e73-af88-c9ae00154cd5",
        "colab": {
          "base_uri": "https://localhost:8080/",
          "height": 285
        }
      },
      "cell_type": "code",
      "source": [
        "# Three settings of the lrate hyperparameters.\n",
        "opts = [NoamOpt(512, 1, 4000, None), \n",
        "        NoamOpt(512, 1, 8000, None),\n",
        "        NoamOpt(256, 1, 4000, None)]\n",
        "plt.plot(np.arange(1, 20000), [[opt.rate(i) for opt in opts] for i in range(1, 20000)])\n",
        "plt.legend([\"512:4000\", \"512:8000\", \"256:4000\"])\n",
        "None"
      ],
      "execution_count": 24,
      "outputs": [
        {
          "output_type": "display_data",
          "data": {
            "image/png": "[encoded data removed]",
            "text/plain": [
              "<matplotlib.figure.Figure at 0x7f89a0911cf8>"
            ]
          },
          "metadata": {
            "tags": []
          }
        }
      ]
    },
    {
      "metadata": {
        "id": "8tkzxQYKUgRQ",
        "colab_type": "text"
      },
      "cell_type": "markdown",
      "source": [
        "## Regularization                                                                                                                                                                                                                                                                                                                                                                                                                                                                                                                                                                                          \n",
        "                                                                                                                                                                                                                                                                                                                      \n",
        "### Label Smoothing\n",
        "\n",
        "During training, we employed label smoothing of value $\\epsilon_{ls}=0.1$ [(cite)](DBLP:journals/corr/SzegedyVISW15).  This hurts perplexity, as the model learns to be more unsure, but improves accuracy and BLEU score.  "
      ]
    },
    {
      "metadata": {
        "id": "IVWDJLXrUgRQ",
        "colab_type": "code",
        "colab": {}
      },
      "cell_type": "code",
      "source": [
        "class LabelSmoothing(nn.Module):\n",
        "    \"Implement label smoothing.\"\n",
        "    def __init__(self, size, padding_idx, smoothing=0.0):\n",
        "        super(LabelSmoothing, self).__init__()\n",
        "        self.criterion = nn.KLDivLoss(size_average=False)\n",
        "        self.padding_idx = padding_idx\n",
        "        self.confidence = 1.0 - smoothing\n",
        "        self.smoothing = smoothing\n",
        "        self.size = size\n",
        "        self.true_dist = None\n",
        "        \n",
        "    def forward(self, x, target):\n",
        "        assert x.size(1) == self.size\n",
        "        true_dist = x.data.clone()\n",
        "        true_dist.fill_(self.smoothing / (self.size - 2))\n",
        "        true_dist.scatter_(1, target.data.unsqueeze(1), self.confidence)\n",
        "        true_dist[:, self.padding_idx] = 0\n",
        "        mask = torch.nonzero(target.data == self.padding_idx)\n",
        "        if mask.dim() > 0:\n",
        "            true_dist.index_fill_(0, mask.squeeze(), 0.0)\n",
        "        self.true_dist = true_dist\n",
        "        return self.criterion(x, Variable(true_dist, requires_grad=False))"
      ],
      "execution_count": 0,
      "outputs": []
    },
    {
      "metadata": {
        "id": "_gXwt5HVUgRT",
        "colab_type": "code",
        "outputId": "15dde427-4c4c-408a-d397-11e8c72318d5",
        "colab": {
          "base_uri": "https://localhost:8080/",
          "height": 273
        }
      },
      "cell_type": "code",
      "source": [
        "#Example\n",
        "crit = LabelSmoothing(5, 0, 0.5)\n",
        "predict = torch.FloatTensor([[0, 0.2, 0.7, 0.1, 0],\n",
        "                             [0, 0.2, 0.7, 0.1, 0], \n",
        "                             [0, 0.2, 0.7, 0.1, 0]])\n",
        "v = crit(Variable(predict.log()), \n",
        "         Variable(torch.LongTensor([2, 1, 0])))\n",
        "\n",
        "# Show the target distributions expected by the system.\n",
        "plt.imshow(crit.true_dist)\n",
        "None"
      ],
      "execution_count": 26,
      "outputs": [
        {
          "output_type": "display_data",
          "data": {
            "image/png": "[encoded data removed]",
            "text/plain": [
              "<matplotlib.figure.Figure at 0x7f89a089b2b0>"
            ]
          },
          "metadata": {
            "tags": []
          }
        }
      ]
    },
    {
      "metadata": {
        "id": "sHBHTwmjUgRU",
        "colab_type": "code",
        "outputId": "dbb23b20-ca1f-47dd-be50-905d216b9807",
        "colab": {
          "base_uri": "https://localhost:8080/",
          "height": 306
        }
      },
      "cell_type": "code",
      "source": [
        "# Label smoothing starts to penalize the model \n",
        "# if it gets very confident about a given choice\n",
        "crit = LabelSmoothing(5, 0, 0.2)\n",
        "def loss(x):\n",
        "    d = x + 3 * 1\n",
        "    predict = torch.FloatTensor([[0, x / d, 1 / d, 1 / d, 1 / d],\n",
        "                                 ])\n",
        "    #print(predict)\n",
        "    return crit(Variable(predict.log()),\n",
        "                 Variable(torch.LongTensor([1]))).data[0]\n",
        "plt.plot(np.arange(1, 100), [loss(x) for x in range(1, 100)])"
      ],
      "execution_count": 27,
      "outputs": [
        {
          "output_type": "execute_result",
          "data": {
            "text/plain": [
              "[<matplotlib.lines.Line2D at 0x7f899dc895c0>]"
            ]
          },
          "metadata": {
            "tags": []
          },
          "execution_count": 27
        },
        {
          "output_type": "display_data",
          "data": {
            "image/png": "[encoded data removed]",
            "text/plain": [
              "<matplotlib.figure.Figure at 0x7f899e072cc0>"
            ]
          },
          "metadata": {
            "tags": []
          }
        }
      ]
    },
    {
      "metadata": {
        "id": "XoyfFgLoUgRW",
        "colab_type": "text"
      },
      "cell_type": "markdown",
      "source": [
        "### Memory Optimization"
      ]
    },
    {
      "metadata": {
        "id": "yVKyONFsUgRW",
        "colab_type": "code",
        "colab": {}
      },
      "cell_type": "code",
      "source": [
        "def loss_backprop(generator, criterion, out, targets, normalize):\n",
        "    \"\"\"\n",
        "    Memory optmization. Compute each timestep separately and sum grads.\n",
        "    \"\"\"\n",
        "    assert out.size(1) == targets.size(1)\n",
        "    total = 0.0\n",
        "    out_grad = []\n",
        "    for i in range(out.size(1)):\n",
        "        out_column = Variable(out[:, i].data, requires_grad=True)\n",
        "        gen = generator(out_column)\n",
        "        loss = criterion(gen, targets[:, i]) / normalize\n",
        "        total += loss.data[0]\n",
        "        loss.backward()\n",
        "        out_grad.append(out_column.grad.data.clone())\n",
        "    out_grad = torch.stack(out_grad, dim=1)\n",
        "    out.backward(gradient=out_grad)\n",
        "    return total"
      ],
      "execution_count": 0,
      "outputs": []
    },
    {
      "metadata": {
        "id": "LiTlbMq2UgRY",
        "colab_type": "code",
        "colab": {}
      },
      "cell_type": "code",
      "source": [
        "def make_std_mask(src, tgt, pad):\n",
        "    src_mask = (src != pad).unsqueeze(-2)\n",
        "    tgt_mask = (tgt != pad).unsqueeze(-2)\n",
        "    tgt_mask = tgt_mask & Variable(subsequent_mask(tgt.size(-1)).type_as(tgt_mask.data))\n",
        "    return src_mask, tgt_mask"
      ],
      "execution_count": 0,
      "outputs": []
    },
    {
      "metadata": {
        "id": "sSF9AaKJUgRZ",
        "colab_type": "code",
        "colab": {}
      },
      "cell_type": "code",
      "source": [
        "def train_epoch(train_iter, model, criterion, opt, transpose=False):\n",
        "    model.train()\n",
        "    #pdb.set_trace()\n",
        "    for i, batch in enumerate(train_iter):\n",
        "\n",
        "        src, trg, src_mask, trg_mask = \\\n",
        "            batch.src, batch.trg, batch.src_mask, batch.trg_mask\n",
        "        out = model.forward(src, trg[:, :-1], src_mask, trg_mask[:, :-1, :-1])\n",
        "        loss = loss_backprop(model.generator, criterion, out, trg[:, 1:], batch.ntokens) \n",
        "                        \n",
        "        model_opt.step()\n",
        "        model_opt.optimizer.zero_grad()\n",
        "        if i % 10 == 1:\n",
        "            print(i, loss, model_opt._rate)"
      ],
      "execution_count": 0,
      "outputs": []
    },
    {
      "metadata": {
        "id": "q4kFYs7nUgRb",
        "colab_type": "code",
        "colab": {}
      },
      "cell_type": "code",
      "source": [
        "def valid_epoch(valid_iter, model, criterion, transpose=False):\n",
        "    model.test()\n",
        "    total = 0\n",
        "    for batch in valid_iter:\n",
        "        src, trg, src_mask, trg_mask = \\\n",
        "            batch.src, batch.trg, batch.src_mask, batch.trg_mask\n",
        "        out = model.forward(src, trg[:, :-1], src_mask, trg_mask[:, :-1, :-1])\n",
        "        loss = loss_backprop(model.generator, criterion, out, trg[:, 1:], batch.ntokens) \n",
        "        "
      ],
      "execution_count": 0,
      "outputs": []
    },
    {
      "metadata": {
        "id": "uJo5AZasUgRd",
        "colab_type": "code",
        "colab": {}
      },
      "cell_type": "code",
      "source": [
        "class Batch:\n",
        "    def __init__(self, src, trg, src_mask, trg_mask, ntokens):\n",
        "        self.src = src\n",
        "        self.trg = trg\n",
        "        self.src_mask = src_mask\n",
        "        self.trg_mask = trg_mask\n",
        "        self.ntokens = ntokens\n",
        "    \n",
        "def data_gen(V, batch, nbatches):\n",
        "    for i in range(nbatches):\n",
        "        data = torch.from_numpy(np.random.randint(1, V, size=(batch, 10)))\n",
        "        src = Variable(data, requires_grad=False)\n",
        "        tgt = Variable(data, requires_grad=False)\n",
        "        src_mask, tgt_mask = make_std_mask(src, tgt, 0)\n",
        "        yield Batch(src, tgt, src_mask, tgt_mask, (tgt[1:] != 0).data.sum())"
      ],
      "execution_count": 0,
      "outputs": []
    },
    {
      "metadata": {
        "id": "vrpU5b2sUgRe",
        "colab_type": "code",
        "outputId": "27ebe59b-8af4-4e45-da29-9798f84584ef",
        "colab": {
          "base_uri": "https://localhost:8080/",
          "height": 107
        }
      },
      "cell_type": "code",
      "source": [
        "V = 11\n",
        "criterion = LabelSmoothing(size=V, padding_idx=0, smoothing=0.0)\n",
        "model = make_model(V, V, N=2)\n",
        "model_opt = get_std_opt(model)\n",
        "for epoch in range(2):\n",
        "    train_epoch(data_gen(V, 30, 20), model, criterion, model_opt)"
      ],
      "execution_count": 33,
      "outputs": [
        {
          "output_type": "stream",
          "text": [
            "1 3.0451141595840454 6.987712429686844e-07\n",
            "11 2.8271460831165314 4.192627457812107e-06\n",
            "1 2.4698991030454636 7.686483672655528e-06\n",
            "11 2.398574262857437 1.118033988749895e-05\n"
          ],
          "name": "stdout"
        }
      ]
    },
    {
      "metadata": {
        "id": "5S2BcIoOUgRg",
        "colab_type": "text"
      },
      "cell_type": "markdown",
      "source": [
        "# A Real World Example"
      ]
    },
    {
      "metadata": {
        "id": "aP_oq0kLUgRh",
        "colab_type": "code",
        "colab": {}
      },
      "cell_type": "code",
      "source": [
        "# For data loading.\n",
        "from torchtext import data, datasets"
      ],
      "execution_count": 0,
      "outputs": []
    },
    {
      "metadata": {
        "id": "DolhL_Uw2R32",
        "colab_type": "code",
        "colab": {}
      },
      "cell_type": "code",
      "source": [
        ""
      ],
      "execution_count": 0,
      "outputs": []
    },
    {
      "metadata": {
        "id": "eKynVliVXg6F",
        "colab_type": "code",
        "outputId": "79b4b3ef-2db6-4aed-b566-bf4ec8bd6de1",
        "colab": {
          "base_uri": "https://localhost:8080/",
          "height": 1005
        }
      },
      "cell_type": "code",
      "source": [
        "!pip install spacy\n",
        "!python -m spacy download en\n",
        "!python -m spacy download es"
      ],
      "execution_count": 35,
      "outputs": [
        {
          "output_type": "stream",
          "text": [
            "Requirement already satisfied: spacy in /usr/local/lib/python3.6/dist-packages (2.0.16)\n",
            "Requirement already satisfied: regex==2018.01.10 in /usr/local/lib/python3.6/dist-packages (from spacy) (2018.1.10)\n",
            "Requirement already satisfied: plac<1.0.0,>=0.9.6 in /usr/local/lib/python3.6/dist-packages (from spacy) (0.9.6)\n",
            "Collecting numpy>=1.15.0 (from spacy)\n",
            "\u001b[?25l  Downloading https://files.pythonhosted.org/packages/22/02/bae88c4aaea4256d890adbf3f7cf33e59a443f9985cf91cd08a35656676a/numpy-1.15.2-cp36-cp36m-manylinux1_x86_64.whl (13.9MB)\n",
            "\u001b[K    100% |████████████████████████████████| 13.9MB 2.7MB/s \n",
            "\u001b[?25hRequirement already satisfied: murmurhash<1.1.0,>=0.28.0 in /usr/local/lib/python3.6/dist-packages (from spacy) (1.0.1)\n",
            "Requirement already satisfied: dill<0.3,>=0.2 in /usr/local/lib/python3.6/dist-packages (from spacy) (0.2.8.2)\n",
            "Requirement already satisfied: cymem<2.1.0,>=2.0.2 in /usr/local/lib/python3.6/dist-packages (from spacy) (2.0.2)\n",
            "Requirement already satisfied: msgpack-numpy<0.4.4 in /usr/local/lib/python3.6/dist-packages (from spacy) (0.4.3.2)\n",
            "Requirement already satisfied: requests<3.0.0,>=2.13.0 in /usr/local/lib/python3.6/dist-packages (from spacy) (2.18.4)\n",
            "Requirement already satisfied: preshed<2.1.0,>=2.0.1 in /usr/local/lib/python3.6/dist-packages (from spacy) (2.0.1)\n",
            "Requirement already satisfied: thinc<6.13.0,>=6.12.0 in /usr/local/lib/python3.6/dist-packages (from spacy) (6.12.0)\n",
            "Requirement already satisfied: ujson>=1.35 in /usr/local/lib/python3.6/dist-packages (from spacy) (1.35)\n",
            "Requirement already satisfied: msgpack>=0.3.0 in /usr/local/lib/python3.6/dist-packages (from msgpack-numpy<0.4.4->spacy) (0.5.6)\n",
            "Requirement already satisfied: urllib3<1.23,>=1.21.1 in /usr/local/lib/python3.6/dist-packages (from requests<3.0.0,>=2.13.0->spacy) (1.22)\n",
            "Requirement already satisfied: idna<2.7,>=2.5 in /usr/local/lib/python3.6/dist-packages (from requests<3.0.0,>=2.13.0->spacy) (2.6)\n",
            "Requirement already satisfied: chardet<3.1.0,>=3.0.2 in /usr/local/lib/python3.6/dist-packages (from requests<3.0.0,>=2.13.0->spacy) (3.0.4)\n",
            "Requirement already satisfied: certifi>=2017.4.17 in /usr/local/lib/python3.6/dist-packages (from requests<3.0.0,>=2.13.0->spacy) (2018.10.15)\n",
            "Requirement already satisfied: tqdm<5.0.0,>=4.10.0 in /usr/local/lib/python3.6/dist-packages (from thinc<6.13.0,>=6.12.0->spacy) (4.27.0)\n",
            "Requirement already satisfied: six<2.0.0,>=1.10.0 in /usr/local/lib/python3.6/dist-packages (from thinc<6.13.0,>=6.12.0->spacy) (1.11.0)\n",
            "Requirement already satisfied: wrapt<1.11.0,>=1.10.0 in /usr/local/lib/python3.6/dist-packages (from thinc<6.13.0,>=6.12.0->spacy) (1.10.11)\n",
            "Requirement already satisfied: cytoolz<0.10,>=0.9.0 in /usr/local/lib/python3.6/dist-packages (from thinc<6.13.0,>=6.12.0->spacy) (0.9.0.1)\n",
            "Requirement already satisfied: toolz>=0.8.0 in /usr/local/lib/python3.6/dist-packages (from cytoolz<0.10,>=0.9.0->thinc<6.13.0,>=6.12.0->spacy) (0.9.0)\n",
            "Installing collected packages: numpy\n",
            "  Found existing installation: numpy 1.14.6\n",
            "    Uninstalling numpy-1.14.6:\n",
            "      Successfully uninstalled numpy-1.14.6\n",
            "Successfully installed numpy-1.15.2\n",
            "Collecting en_core_web_sm==2.0.0 from https://github.com/explosion/spacy-models/releases/download/en_core_web_sm-2.0.0/en_core_web_sm-2.0.0.tar.gz#egg=en_core_web_sm==2.0.0\n",
            "\u001b[?25l  Downloading https://github.com/explosion/spacy-models/releases/download/en_core_web_sm-2.0.0/en_core_web_sm-2.0.0.tar.gz (37.4MB)\n",
            "\u001b[K    100% |████████████████████████████████| 37.4MB 48.7MB/s \n",
            "\u001b[?25hInstalling collected packages: en-core-web-sm\n",
            "  Running setup.py install for en-core-web-sm ... \u001b[?25l-\b \b\\\b \b|\b \bdone\n",
            "\u001b[?25hSuccessfully installed en-core-web-sm-2.0.0\n",
            "\n",
            "\u001b[93m    Linking successful\u001b[0m\n",
            "    /usr/local/lib/python3.6/dist-packages/en_core_web_sm -->\n",
            "    /usr/local/lib/python3.6/dist-packages/spacy/data/en\n",
            "\n",
            "    You can now load the model via spacy.load('en')\n",
            "\n",
            "Collecting es_core_news_sm==2.0.0 from https://github.com/explosion/spacy-models/releases/download/es_core_news_sm-2.0.0/es_core_news_sm-2.0.0.tar.gz#egg=es_core_news_sm==2.0.0\n",
            "\u001b[?25l  Downloading https://github.com/explosion/spacy-models/releases/download/es_core_news_sm-2.0.0/es_core_news_sm-2.0.0.tar.gz (36.7MB)\n",
            "\u001b[K    100% |████████████████████████████████| 36.7MB 49.0MB/s \n",
            "\u001b[?25hInstalling collected packages: es-core-news-sm\n",
            "  Running setup.py install for es-core-news-sm ... \u001b[?25l-\b \b\\\b \b|\b \bdone\n",
            "\u001b[?25hSuccessfully installed es-core-news-sm-2.0.0\n",
            "\n",
            "\u001b[93m    Linking successful\u001b[0m\n",
            "    /usr/local/lib/python3.6/dist-packages/es_core_news_sm -->\n",
            "    /usr/local/lib/python3.6/dist-packages/spacy/data/es\n",
            "\n",
            "    You can now load the model via spacy.load('es')\n",
            "\n"
          ],
          "name": "stdout"
        }
      ]
    },
    {
      "metadata": {
        "id": "YiqvCKae3stn",
        "colab_type": "code",
        "colab": {
          "base_uri": "https://localhost:8080/",
          "height": 318
        },
        "outputId": "e7fe41b1-d79f-4a35-a72a-fe792a04ea81"
      },
      "cell_type": "code",
      "source": [
        "#Download the data\n",
        "! wget -O ./text_files.tar.gz 'http://liftothers.org/dokuwiki/lib/exe/fetch.php?media=cs501r_f2018:es-en-general-conference.tar.gz' \n",
        "\n",
        "! tar -xzf text_files.tar.gz\n",
        "! pip install unidecode\n",
        "\n"
      ],
      "execution_count": 36,
      "outputs": [
        {
          "output_type": "stream",
          "text": [
            "--2018-10-20 02:14:31--  http://liftothers.org/dokuwiki/lib/exe/fetch.php?media=cs501r_f2018:es-en-general-conference.tar.gz\n",
            "Resolving liftothers.org (liftothers.org)... 50.62.229.1\n",
            "Connecting to liftothers.org (liftothers.org)|50.62.229.1|:80... connected.\n",
            "HTTP request sent, awaiting response... 200 OK\n",
            "Length: 18318204 (17M) [application/octet-stream]\n",
            "Saving to: ‘./text_files.tar.gz’\n",
            "\n",
            "./text_files.tar.gz 100%[===================>]  17.47M  7.19MB/s    in 2.4s    \n",
            "\n",
            "2018-10-20 02:14:34 (7.19 MB/s) - ‘./text_files.tar.gz’ saved [18318204/18318204]\n",
            "\n",
            "Collecting unidecode\n",
            "\u001b[?25l  Downloading https://files.pythonhosted.org/packages/59/ef/67085e30e8bbcdd76e2f0a4ad8151c13a2c5bce77c85f8cad6e1f16fb141/Unidecode-1.0.22-py2.py3-none-any.whl (235kB)\n",
            "\u001b[K    100% |████████████████████████████████| 235kB 15.0MB/s \n",
            "\u001b[?25hInstalling collected packages: unidecode\n",
            "Successfully installed unidecode-1.0.22\n"
          ],
          "name": "stdout"
        }
      ]
    },
    {
      "metadata": {
        "id": "2AIyJx_4Ls53",
        "colab_type": "code",
        "colab": {}
      },
      "cell_type": "code",
      "source": [
        "\n",
        "from torchtext.data import TabularDataset\n",
        "import torchtext.data \n",
        "import spacy\n",
        "spacy_es = spacy.load('es')\n",
        "spacy_en = spacy.load('en')\n",
        "def tokenize_es(text):\n",
        "    return [tok.text for tok in spacy_es.tokenizer(text)]\n",
        "\n",
        "def tokenize_en(text):\n",
        "    return [tok.text for tok in spacy_en.tokenizer(text)]\n",
        "\n",
        "\n",
        "BOS_WORD = '<s>'\n",
        "EOS_WORD = '</s>'\n",
        "BLANK_WORD = \"<blank>\"\n",
        "SRC = data.Field(tokenize=tokenize_es, pad_token=BLANK_WORD)\n",
        "TGT = data.Field(tokenize=tokenize_en, init_token = BOS_WORD, \n",
        "                 eos_token = EOS_WORD, pad_token=BLANK_WORD)\n",
        "datafields = [(\"id\", None), # we won't be needing the id, so we pass in None as the field\n",
        "                 (\"trg\", TGT), (\"src\", SRC)]\n",
        "train = TabularDataset(\n",
        "               path=\"./en-es_conference.csv\", # the root directory where the data lies\n",
        "               format='csv',\n",
        "               skip_header=True, # if your csv header has a header, make sure to pass this to ensure it doesn't get proceesed as data!\n",
        "               fields=datafields)\n",
        " \n",
        "MAX_LEN = 100\n",
        "MIN_FREQ = 1\n",
        "SRC.build_vocab(train.src, min_freq=MIN_FREQ)\n",
        "TGT.build_vocab(train.trg, min_freq=MIN_FREQ)\n",
        " \n",
        "\n",
        "\n"
      ],
      "execution_count": 0,
      "outputs": []
    },
    {
      "metadata": {
        "id": "8dTNMXgD240j",
        "colab_type": "code",
        "colab": {}
      },
      "cell_type": "code",
      "source": [
        ""
      ],
      "execution_count": 0,
      "outputs": []
    },
    {
      "metadata": {
        "id": "lXtYwdHqUgRj",
        "colab_type": "code",
        "colab": {}
      },
      "cell_type": "code",
      "source": [
        "# Load words from IWSLT\n",
        "\n",
        "#!pip install torchtext spacy\n",
        "#!python -m spacy download en\n",
        "#!python -m spacy download de\n",
        "\n",
        "\n",
        "\n"
      ],
      "execution_count": 0,
      "outputs": []
    },
    {
      "metadata": {
        "id": "F8MTIJTWUgRl",
        "colab_type": "code",
        "colab": {}
      },
      "cell_type": "code",
      "source": [
        "# Detail. Batching seems to matter quite a bit. \n",
        "# This is temporary code for dynamic batching based on number of tokens.\n",
        "# This code should all go away once things get merged in this library.\n",
        "\n",
        "BATCH_SIZE = 4096\n",
        "global max_src_in_batch, max_tgt_in_batch\n",
        "def batch_size_fn(new, count, sofar):\n",
        "    \"Keep augmenting batch and calculate total number of tokens + padding.\"\n",
        "    global max_src_in_batch, max_tgt_in_batch\n",
        "    if count == 1:\n",
        "        max_src_in_batch = 0\n",
        "        max_tgt_in_batch = 0\n",
        "    max_src_in_batch = max(max_src_in_batch,  len(new.src))\n",
        "    max_tgt_in_batch = max(max_tgt_in_batch,  len(new.trg) + 2)\n",
        "    src_elements = count * max_src_in_batch\n",
        "    tgt_elements = count * max_tgt_in_batch\n",
        "    return max(src_elements, tgt_elements)\n",
        "\n",
        "class MyIterator(data.Iterator):\n",
        "    def create_batches(self):\n",
        "        if self.train:\n",
        "            def pool(d, random_shuffler):\n",
        "                for p in data.batch(d, self.batch_size * 100):\n",
        "                    p_batch = data.batch(\n",
        "                        sorted(p, key=self.sort_key),\n",
        "                        self.batch_size, self.batch_size_fn)\n",
        "                    for b in random_shuffler(list(p_batch)):\n",
        "                        yield b\n",
        "            self.batches = pool(self.data(), self.random_shuffler)\n",
        "            \n",
        "        else:\n",
        "            self.batches = []\n",
        "            for b in data.batch(self.data(), self.batch_size,\n",
        "                                          self.batch_size_fn):\n",
        "                self.batches.append(sorted(b, key=self.sort_key))\n",
        "\n",
        "def rebatch(pad_idx, batch):\n",
        "    \"Fix order in torchtext to match ours\"\n",
        "    src, trg = batch.src.transpose(0, 1), batch.trg.transpose(0, 1)\n",
        "    src_mask, trg_mask = make_std_mask(src, trg, pad_idx)\n",
        "    return Batch(src, trg, src_mask, trg_mask, (trg[1:] != pad_idx).data.sum())\n",
        "\n",
        "train_iter = MyIterator(train, batch_size=BATCH_SIZE, device=0,\n",
        "                        repeat=False, sort_key=lambda x: (len(x.src), len(x.trg)),\n",
        "                        batch_size_fn=batch_size_fn, train=True)\n"
      ],
      "execution_count": 0,
      "outputs": []
    },
    {
      "metadata": {
        "id": "wamR3SPdUgRo",
        "colab_type": "code",
        "outputId": "3b41d5fe-7fd4-4059-e4db-a639d7f5f220",
        "colab": {
          "base_uri": "https://localhost:8080/",
          "height": 87
        }
      },
      "cell_type": "code",
      "source": [
        "# Create the model an load it onto our GPU.\n",
        "pad_idx = TGT.vocab.stoi[\"<blank>\"]\n",
        "model = make_model(len(SRC.vocab), len(TGT.vocab), N=6)\n",
        "model_opt = get_std_opt(model)\n",
        "model.cuda()\n",
        "criterion = LabelSmoothing(size=len(TGT.vocab), padding_idx=pad_idx, smoothing=0.1)\n",
        "criterion.cuda()"
      ],
      "execution_count": 39,
      "outputs": [
        {
          "output_type": "execute_result",
          "data": {
            "text/plain": [
              "LabelSmoothing(\n",
              "  (criterion): KLDivLoss(\n",
              "  )\n",
              ")"
            ]
          },
          "metadata": {
            "tags": []
          },
          "execution_count": 39
        }
      ]
    },
    {
      "metadata": {
        "id": "SStCCZoiUgRp",
        "colab_type": "code",
        "outputId": "9a7a4de9-ddfb-43cc-e712-dfc59b61a4e2",
        "colab": {
          "base_uri": "https://localhost:8080/",
          "height": 11748
        }
      },
      "cell_type": "code",
      "source": [
        "\n",
        "for epoch in range(15):\n",
        "#epoch=0\n",
        "  train_epoch((rebatch(pad_idx, b) for b in train_iter), model, criterion, model_opt)\n",
        "    #valid_epoch((rebatch(pad_idx, b) for b in valid_iter), model, criterion)"
      ],
      "execution_count": 40,
      "outputs": [
        {
          "output_type": "stream",
          "text": [
            "1 9.38623639731668 6.987712429686844e-07\n",
            "11 9.20900024753064 4.192627457812107e-06\n",
            "21 8.682317741215229 7.686483672655528e-06\n",
            "31 8.76641078852117 1.118033988749895e-05\n",
            "41 8.525557657703757 1.4674196102342371e-05\n",
            "51 8.48788971081376 1.8168052317185794e-05\n",
            "61 8.41037296038121 2.1661908532029216e-05\n",
            "71 8.274701967835426 2.515576474687264e-05\n",
            "81 5.387194871902466 2.8649620961716057e-05\n",
            "91 8.194034994579852 3.214347717655948e-05\n",
            "101 7.464124642312527 3.56373333914029e-05\n",
            "111 7.707376578822732 3.913118960624633e-05\n",
            "121 7.780432985862717 4.262504582108975e-05\n",
            "131 6.80750897526741 4.611890203593317e-05\n",
            "141 6.876568287611008 4.961275825077659e-05\n",
            "151 6.201333522796631 5.310661446562001e-05\n",
            "161 6.228073716163635 5.660047068046343e-05\n",
            "171 6.436777749215253 6.0094326895306855e-05\n",
            "181 6.046556629240513 6.358818311015028e-05\n",
            "191 5.4960713386535645 6.70820393249937e-05\n",
            "201 5.663464806973934 7.057589553983712e-05\n",
            "211 5.835461005568504 7.406975175468054e-05\n",
            "221 4.375400424003601 7.756360796952397e-05\n",
            "231 5.826735180919059 8.10574641843674e-05\n",
            "241 5.213643968105316 8.455132039921081e-05\n",
            "251 5.452988389879465 8.804517661405423e-05\n",
            "261 5.71033308818005 9.153903282889765e-05\n",
            "271 5.597388073801994 9.503288904374107e-05\n",
            "281 5.564426705241203 9.85267452585845e-05\n",
            "291 5.364230215549469 0.00010202060147342792\n",
            "301 5.830527188722044 0.00010551445768827134\n",
            "311 5.330144871142693 0.00010900831390311476\n",
            "321 5.7637008796446025 0.00011250217011795819\n",
            "331 5.9356349305599 0.0001159960263328016\n",
            "341 4.860783787444234 0.00011948988254764501\n",
            "351 5.46269608149305 0.00012298373876248845\n",
            "361 4.968747362494469 0.00012647759497733186\n",
            "371 5.1676204584073275 0.0001299714511921753\n",
            "381 5.434562496026047 0.00013346530740701871\n",
            "391 4.902567058801651 0.00013695916362186213\n",
            "401 5.632629699990503 0.00014045301983670557\n",
            "411 5.281833905901294 0.00014394687605154898\n",
            "421 5.491201498545706 0.00014744073226639242\n",
            "431 4.644368972629309 0.00015093458848123583\n",
            "441 5.097056237049401 0.00015442844469607924\n",
            "451 5.030937024392188 0.00015792230091092268\n",
            "461 5.060004177008523 0.0001614161571257661\n",
            "471 4.980312661209609 0.0001649100133406095\n",
            "481 5.468081371902372 0.00016840386955545295\n",
            "491 5.331839537466294 0.00017189772577029636\n",
            "501 5.14565857067646 0.00017539158198513977\n",
            "511 4.654153427109122 0.0001788854381999832\n",
            "521 4.890339264879003 0.00018237929441482662\n",
            "531 4.494063701480627 0.00018587315062967003\n",
            "541 4.868074693484232 0.00018936700684451347\n",
            "551 4.840790166374063 0.00019286086305935688\n",
            "561 4.622360173612833 0.0001963547192742003\n",
            "571 5.144882614171365 0.00019984857548904374\n",
            "581 4.29226359911263 0.00020334243170388715\n",
            "591 5.270592081622453 0.0002068362879187306\n",
            "601 4.589374706149101 0.000210330144133574\n",
            "611 4.53648995119147 0.0002138240003484174\n",
            "621 3.8205264657735825 0.00021731785656326085\n",
            "631 4.483202300267294 0.00022081171277810424\n",
            "641 4.657922235157457 0.00022430556899294768\n",
            "651 4.653102335811127 0.00022779942520779112\n",
            "661 4.691885439620819 0.0002312932814226345\n",
            "671 4.668435878586024 0.00023478713763747794\n",
            "681 4.202524267137051 0.00023828099385232138\n",
            "691 4.4304059483110905 0.00024177485006716476\n",
            "701 4.739192381966859 0.00024526870628200823\n",
            "711 4.174801671877503 0.00024876256249685164\n",
            "721 3.47628253698349 0.00025225641871169505\n",
            "731 4.423564944881946 0.00025575027492653847\n",
            "741 4.543496230151504 0.0002592441311413819\n",
            "751 4.348270688205957 0.00026273798735622535\n",
            "761 4.984976451349212 0.00026623184357106876\n",
            "771 4.145499527454376 0.00026972569978591217\n",
            "781 4.220830872654915 0.0002732195560007556\n",
            "1 4.790511261613574 0.00027636402659411463\n",
            "11 3.9127319110557437 0.0002798578828089581\n",
            "21 4.600478769149049 0.0002833517390238015\n",
            "31 4.579908364685252 0.000286845595238645\n",
            "41 4.854393951536622 0.00029033945145348833\n",
            "51 4.0489465778227895 0.0002938333076683318\n",
            "61 4.084161963197403 0.0002973271638831752\n",
            "71 4.825488272821531 0.0003008210200980186\n",
            "81 4.196763243991882 0.00030431487631286204\n",
            "91 3.8136397898197174 0.00030780873252770545\n",
            "101 4.451220048591495 0.00031130258874254886\n",
            "111 3.9427957080770284 0.00031479644495739233\n",
            "121 3.8069710641284473 0.00031829030117223574\n",
            "131 3.760495513677597 0.00032178415738707915\n",
            "141 4.77241665191832 0.00032527801360192257\n",
            "151 4.093516725115478 0.000328771869816766\n",
            "161 4.159800356355845 0.00033226572603160944\n",
            "171 3.4781570937484503 0.00033575958224645286\n",
            "181 4.50692273855384 0.00033925343846129627\n",
            "191 4.019329276692588 0.0003427472946761397\n",
            "201 4.658777177275624 0.00034624115089098315\n",
            "211 4.066286690533161 0.0003497350071058265\n",
            "221 4.174532058415934 0.0003532288633206699\n",
            "231 4.069031725433888 0.0003567227195355134\n",
            "241 3.8153828270733356 0.0003602165757503568\n",
            "251 2.905649572610855 0.0003637104319652002\n",
            "261 3.7462156512956426 0.0003672042881800437\n",
            "271 4.5068488385295495 0.00037069814439488703\n",
            "281 3.2658266127109528 0.00037419200060973044\n",
            "291 3.979913502931595 0.0003776858568245739\n",
            "301 5.303143201716011 0.0003811797130394173\n",
            "311 3.1259918957948685 0.00038467356925426074\n",
            "321 4.784240657754708 0.0003881674254691042\n",
            "331 4.101321049616672 0.00039166128168394756\n",
            "341 3.957670357078314 0.00039515513789879097\n",
            "351 4.898190336934931 0.00039864899411363444\n",
            "361 3.784087782725692 0.00040214285032847785\n",
            "371 3.825673334813473 0.0004056367065433213\n",
            "381 4.068297634017654 0.00040913056275816473\n",
            "391 4.137098318700737 0.0004126244189730081\n",
            "401 4.154492174973711 0.00041611827518785155\n",
            "411 3.661177213303745 0.00041961213140269497\n",
            "421 4.307515043983585 0.0004231059876175384\n",
            "431 3.5668608847772703 0.00042659984383238184\n",
            "441 4.645171838841634 0.00043009370004722526\n",
            "451 3.859990974131506 0.0004335875562620686\n",
            "461 4.340115652139502 0.0004370814124769121\n",
            "471 4.098576897406019 0.0004405752686917555\n",
            "481 3.4245840530966234 0.0004440691249065989\n",
            "491 3.864975471049547 0.00044756298112144237\n",
            "501 4.013165887328796 0.0004510568373362858\n",
            "511 3.8508686530512932 0.00045455069355112914\n",
            "521 3.6037241218873532 0.0004580445497659726\n",
            "531 3.5422158565634163 0.000461538405980816\n",
            "541 3.6750443656928837 0.00046503226219565943\n",
            "551 4.506241419527214 0.0004685261184105029\n",
            "561 3.696699719876051 0.0004720199746253463\n",
            "571 3.3809400831814855 0.00047551383084018967\n",
            "581 4.066960560237931 0.00047900768705503314\n",
            "591 4.135367634196882 0.00048250154326987655\n",
            "601 3.2564367547165602 0.00048599539948471996\n",
            "611 3.819913962535793 0.0004894892556995634\n",
            "621 4.22678186459234 0.0004929831119144068\n",
            "631 3.607984928326914 0.0004964769681292503\n",
            "641 4.138480450492352 0.0004999708243440937\n",
            "651 4.589264419453684 0.000503464680558937\n",
            "661 4.181995521939825 0.0005069585367737805\n",
            "671 3.727307909517549 0.000510452392988624\n",
            "681 4.120539773226483 0.0005139462492034674\n",
            "691 3.0130482628010213 0.0005174401054183108\n",
            "701 3.73200539334357 0.0005209339616331542\n",
            "711 3.799318807963573 0.0005244278178479976\n",
            "721 3.3419126257067546 0.0005279216740628411\n",
            "731 3.746704952791333 0.0005314155302776844\n",
            "741 3.941023995386786 0.0005349093864925278\n",
            "751 3.8441376868868247 0.0005384032427073714\n",
            "761 4.097862626978895 0.0005418970989222148\n",
            "771 2.850675758905709 0.0005453909551370581\n",
            "781 4.185281046831733 0.0005488848113519016\n",
            "1 2.8326698082964867 0.0005520292819452606\n",
            "11 3.4557596835365985 0.0005555231381601041\n",
            "21 3.6091690394096076 0.0005590169943749475\n",
            "31 3.883112369905575 0.000562510850589791\n",
            "41 2.9137654760852456 0.0005660047068046343\n",
            "51 4.034187327575637 0.0005694985630194777\n",
            "61 3.5334731634357013 0.0005729924192343212\n",
            "71 2.9815200870798435 0.0005764862754491646\n",
            "81 3.324684937018901 0.000579980131664008\n",
            "91 3.0687077743932605 0.0005834739878788515\n",
            "101 3.966872563090874 0.0005869678440936949\n",
            "111 3.3317891053156927 0.0005904617003085383\n",
            "121 3.2036616613622755 0.0005939555565233817\n",
            "131 3.5782824979396537 0.0005974494127382251\n",
            "141 3.6411701104880194 0.0006009432689530685\n",
            "151 3.9568959144235123 0.000604437125167912\n",
            "161 4.0946989862422924 0.0006079309813827553\n",
            "171 3.1715187038644217 0.0006114248375975988\n",
            "181 2.99222174892202 0.0006149186938124423\n",
            "191 2.900672771706013 0.0006184125500272857\n",
            "201 4.045800811087247 0.0006219064062421291\n",
            "211 2.8257853561080992 0.0006254002624569725\n",
            "221 3.0006262358510867 0.0006288941186718159\n",
            "231 3.0817620145971887 0.0006323879748866593\n",
            "241 3.678495269268751 0.0006358818311015028\n",
            "251 3.469532405699283 0.0006393756873163462\n",
            "261 3.2902186730643734 0.0006428695435311897\n",
            "271 3.4273102659499273 0.0006463633997460331\n",
            "281 2.366703823208809 0.0006498572559608764\n",
            "291 2.944017091766 0.0006533511121757199\n",
            "301 3.324580389615221 0.0006568449683905633\n",
            "311 3.198375240142923 0.0006603388246054067\n",
            "321 4.144763675627473 0.0006638326808202502\n",
            "331 2.8249399974010885 0.0006673265370350936\n",
            "341 3.4598112670901173 0.000670820393249937\n",
            "351 3.6042954646400176 0.0006743142494647804\n",
            "361 3.5763400073628873 0.0006778081056796238\n",
            "371 2.91967904107878 0.0006813019618944672\n",
            "381 2.2527141757309437 0.0006847958181093107\n",
            "391 3.7581916176241066 0.000688289674324154\n",
            "401 2.9255842408165336 0.0006917835305389975\n",
            "411 3.060958557703998 0.0006952773867538409\n",
            "421 2.9978800052776933 0.0006987712429686844\n",
            "431 3.5270340028073406 0.0007022650991835278\n",
            "441 2.7523334729485214 0.0007057589553983712\n",
            "451 2.7025296296924353 0.0007092528116132146\n",
            "461 3.791586565273974 0.000712746667828058\n",
            "471 2.7255857770796865 0.0007162405240429015\n",
            "481 3.113944936550979 0.000719734380257745\n",
            "491 4.055616042282054 0.0007232282364725884\n",
            "501 3.015274333418347 0.0007267220926874318\n",
            "511 3.559263561872285 0.0007302159489022751\n",
            "521 3.4250361443846487 0.0007337098051171185\n",
            "531 3.135952609081869 0.0007372036613319619\n",
            "541 2.765032425755635 0.0007406975175468054\n",
            "551 2.5572978076525033 0.0007441913737616489\n",
            "561 2.7379264305345714 0.0007476852299764923\n",
            "571 3.193141970987199 0.0007511790861913357\n",
            "581 3.1395026181089634 0.0007546729424061791\n",
            "591 3.1984393552411348 0.0007581667986210226\n",
            "601 2.971448549767956 0.000761660654835866\n",
            "611 3.3361096893204376 0.0007651545110507094\n",
            "621 2.8580151048809057 0.0007686483672655529\n",
            "631 2.8230608909216244 0.0007721422234803962\n",
            "641 2.9423347252886742 0.0007756360796952396\n",
            "651 2.8258249438367784 0.0007791299359100832\n",
            "661 3.1618257232476026 0.0007826237921249265\n",
            "671 2.766208700835705 0.0007861176483397699\n",
            "681 3.099096840043785 0.0007896115045546133\n",
            "691 3.6296396833786275 0.0007931053607694567\n",
            "701 2.5647966323886067 0.0007965992169843002\n",
            "711 2.5435414364910685 0.0008000930731991437\n",
            "721 2.8363338219351135 0.0008035869294139871\n",
            "731 3.837070921261329 0.0008070807856288305\n",
            "741 3.2735678255849052 0.0008105746418436739\n",
            "751 2.600138549692929 0.0008140684980585172\n",
            "761 2.714071304537356 0.0008175623542733606\n",
            "771 3.4417905547306873 0.0008210562104882041\n",
            "781 3.004464708996238 0.0008245500667030476\n",
            "1 2.1268576172878966 0.0008276945372964067\n",
            "11 3.409656464617001 0.00083118839351125\n",
            "21 2.4973382274620235 0.0008346822497260934\n",
            "31 2.393006044672802 0.0008381761059409368\n",
            "41 2.82676086758147 0.0008416699621557803\n",
            "51 2.1370019670957845 0.0008451638183706238\n",
            "61 2.0742607682477683 0.0008486576745854672\n",
            "71 2.1988056278787553 0.0008521515308003106\n",
            "81 1.6900354642421007 0.000855645387015154\n",
            "91 2.7823046116391197 0.0008591392432299974\n",
            "101 2.062465457129292 0.0008626330994448408\n",
            "111 2.9992789374773565 0.0008661269556596844\n",
            "121 2.33852643170394 0.0008696208118745278\n",
            "131 3.202088125894079 0.0008731146680893711\n",
            "141 2.749196953023784 0.0008766085243042145\n",
            "151 3.0837707937826053 0.0008801023805190579\n",
            "161 1.8801755599561147 0.0008835962367339014\n",
            "171 2.371537627885118 0.0008870900929487448\n",
            "181 2.234842136967927 0.0008905839491635882\n",
            "191 2.4642334740638034 0.0008940778053784317\n",
            "201 3.0269382042170037 0.0008975716615932751\n",
            "211 4.069759972160682 0.0009010655178081185\n",
            "221 3.1238375217144494 0.000904559374022962\n",
            "231 2.466324940090999 0.0009080532302378054\n",
            "241 2.523337086342508 0.0009115470864526488\n",
            "251 2.978921614587307 0.0009150409426674921\n",
            "261 2.4756310080410913 0.0009185347988823355\n",
            "271 2.2556785894557834 0.000922028655097179\n",
            "281 2.172822607681155 0.0009255225113120225\n",
            "291 2.0258528620033758 0.0009290163675268659\n",
            "301 2.49692824232352 0.0009325102237417093\n",
            "311 2.8051347343671296 0.0009360040799565527\n",
            "321 2.2597143596503884 0.0009394979361713961\n",
            "331 2.452871366724139 0.0009429917923862395\n",
            "341 3.166306744577014 0.0009464856486010831\n",
            "351 2.5087598164973315 0.0009499795048159265\n",
            "361 2.479542345894515 0.0009534733610307699\n",
            "371 2.3644422721117735 0.0009569672172456132\n",
            "381 2.5170047327992506 0.0009604610734604566\n",
            "391 2.4114567901706323 0.0009639549296753\n",
            "401 3.040077308571199 0.0009674487858901435\n",
            "411 2.2790165196638554 0.0009709426421049869\n",
            "421 2.1862299505155534 0.0009744364983198304\n",
            "431 3.452274747971387 0.0009779303545346737\n",
            "441 1.972380482708104 0.000981424210749517\n",
            "451 2.645784877531696 0.0009849180669643607\n",
            "461 2.099140530124714 0.0009884119231792041\n",
            "471 2.4527861229144037 0.0009919057793940475\n",
            "481 2.084593099541962 0.000995399635608891\n",
            "491 3.215369158126123 0.0009988934918237343\n",
            "501 1.6087293419986963 0.0010023873480385778\n",
            "511 2.0695979646407068 0.0010058812042534212\n",
            "521 2.461865928664338 0.0010093750604682646\n",
            "531 2.9313279100242653 0.001012868916683108\n",
            "541 2.1112230494618416 0.0010163627728979514\n",
            "551 2.866664427187061 0.0010198566291127948\n",
            "561 1.861473558936268 0.0010233504853276382\n",
            "571 2.558831193484366 0.0010268443415424816\n",
            "581 2.01861280715093 0.001030338197757325\n",
            "591 2.7886548601818504 0.0010338320539721685\n",
            "601 1.9505871620494872 0.0010373259101870119\n",
            "611 2.5124054037733003 0.0010408197664018553\n",
            "621 2.3978151055762282 0.0010443136226166987\n",
            "631 4.385700740516768 0.0010478074788315423\n",
            "641 2.9445137763686944 0.0010513013350463857\n",
            "651 2.166170466458425 0.0010547951912612292\n",
            "661 1.8895965120755136 0.0010582890474760724\n",
            "671 4.372486962914991 0.0010617829036909158\n",
            "681 2.267923603860254 0.0010652767599057594\n",
            "691 1.7176523166708648 0.0010687706161206028\n",
            "701 1.6342826606705785 0.0010722644723354462\n",
            "711 3.073342413183127 0.0010757583285502896\n",
            "721 2.6341236833759467 0.001079252184765133\n",
            "731 2.052685848233523 0.0010827460409799765\n",
            "741 2.0993966232053936 0.0010862398971948199\n",
            "751 3.132390037757432 0.0010897337534096633\n",
            "761 2.2991310101933777 0.0010932276096245067\n",
            "771 2.8108600270388706 0.00109672146583935\n",
            "781 2.2609562124707736 0.0011002153220541935\n",
            "1 1.7398478029062971 0.0011033597926475526\n",
            "11 2.1404433664647513 0.001106853648862396\n",
            "21 1.4733542546164244 0.0011103475050772396\n",
            "31 1.427725797984749 0.001113841361292083\n",
            "41 1.9596877641306492 0.0011173352175069264\n",
            "51 1.7978484272025526 0.0011208290737217696\n",
            "61 2.413743478944525 0.001124322929936613\n",
            "71 2.1921516592847183 0.0011278167861514565\n",
            "81 1.9098945416044444 0.0011313106423663\n",
            "91 1.7434730428503826 0.0011348044985811435\n",
            "101 1.513150094775483 0.001138298354795987\n",
            "111 1.9515326413093135 0.0011417922110108303\n",
            "121 2.225348686304642 0.0011452860672256737\n",
            "131 1.7204594878130592 0.0011487799234405171\n",
            "141 2.338013073516777 0.0011522737796553606\n",
            "151 1.988275929041265 0.001155767635870204\n",
            "161 1.8609524826169945 0.0011592614920850474\n",
            "171 2.2727316124364734 0.0011627553482998908\n",
            "181 1.5441698281938443 0.0011662492045147342\n",
            "191 1.5107350810430944 0.0011697430607295776\n",
            "201 2.9501605451805517 0.001173236916944421\n",
            "211 1.6240462367422879 0.0011767307731592644\n",
            "221 1.786186445315252 0.0011802246293741079\n",
            "231 2.8793023131001974 0.0011837184855889513\n",
            "241 2.4932456507522147 0.0011872123418037947\n",
            "251 2.8591872637043707 0.0011907061980186383\n",
            "261 1.9842252108210232 0.0011942000542334817\n",
            "271 1.8935350565006956 0.0011976939104483251\n",
            "281 2.4879742030716443 0.0012011877666631683\n",
            "291 1.5601739748381078 0.0012046816228780117\n",
            "301 1.5207244995981455 0.0012081754790928551\n",
            "311 1.3542341163847595 0.0012116693353076988\n",
            "321 1.8570430360850878 0.0012151631915225422\n",
            "331 2.3162673145125154 0.0012186570477373856\n",
            "341 3.177084081849898 0.001222150903952229\n",
            "351 2.641972835146589 0.0012256447601670724\n",
            "361 2.3508868278586306 0.0012291386163819158\n",
            "371 1.9069061074551428 0.0012326324725967593\n",
            "381 1.5854734545573592 0.0012361263288116027\n",
            "391 1.9373068655477255 0.001239620185026446\n",
            "401 2.249824258258741 0.0012431140412412895\n",
            "411 1.675230560300406 0.001246607897456133\n",
            "421 1.9050859254202805 0.0012501017536709763\n",
            "431 2.2840604910161346 0.0012535956098858197\n",
            "441 3.3912210921698716 0.0012570894661006631\n",
            "451 1.9237398382392712 0.0012605833223155065\n",
            "461 1.7000886489404365 0.00126407717853035\n",
            "471 3.0703452262241626 0.0012675710347451934\n",
            "481 2.0013939177442808 0.0012710648909600368\n",
            "491 1.2569827241823077 0.0012745587471748804\n",
            "501 2.7289958508627024 0.0012780526033897238\n",
            "511 2.2490376667046803 0.0012815464596045672\n",
            "521 2.0918287956737913 0.0012850403158194104\n",
            "531 1.8989220921648666 0.0012885341720342538\n",
            "541 1.7900264213676564 0.0012920280282490975\n",
            "551 1.5089254960039398 0.0012955218844639409\n",
            "561 1.9164613853063202 0.0012990157406787843\n",
            "571 1.5955329206772149 0.0013025095968936277\n",
            "581 1.9562456120329443 0.0013060034531084711\n",
            "591 0.5158841833472252 0.0013094973093233145\n",
            "601 2.338589702769241 0.001312991165538158\n",
            "611 2.4713512355592684 0.0013164850217530014\n",
            "621 1.7080759168602526 0.0013199788779678448\n",
            "631 1.7099843202158809 0.0013234727341826882\n",
            "641 2.1003474874887615 0.0013269665903975316\n",
            "651 1.7339192683575675 0.001330460446612375\n",
            "661 2.4067485775158275 0.0013339543028272184\n",
            "671 1.5211389381438494 0.0013374481590420618\n",
            "681 1.7548776243202155 0.0013409420152569052\n",
            "691 1.6376167158596218 0.0013444358714717487\n",
            "701 1.7574178772629239 0.001347929727686592\n",
            "711 2.2146383173239883 0.0013514235839014355\n",
            "721 2.3221336546121165 0.0013549174401162791\n",
            "731 1.6303323237225413 0.0013584112963311225\n",
            "741 1.5638536057667807 0.001361905152545966\n",
            "751 1.028634311631322 0.0013653990087608091\n",
            "761 1.6347255368018523 0.0013688928649756525\n",
            "771 1.2826963113620877 0.001372386721190496\n",
            "781 2.3038218399888137 0.0013758805774053396\n",
            "1 1.222719453740865 0.0013790250479986986\n",
            "11 2.0741108202346368 0.001382518904213542\n",
            "21 1.7060272558883298 0.0013860127604283855\n",
            "31 2.1174010975646524 0.0013895066166432289\n",
            "41 1.4741955534555018 0.0013930004728580723\n",
            "51 2.486577189709351 0.0013964943290729157\n",
            "61 2.5703977264620335 0.0013963212389153398\n",
            "71 1.3077052298467606 0.0013945821409196268\n",
            "81 1.555583798326552 0.00139284952484384\n",
            "91 1.2708487221971154 0.0013911233505223722\n",
            "101 2.2126413352089003 0.0013894035781371985\n",
            "111 1.4649786213994958 0.0013876901682140185\n",
            "121 1.6137810847721994 0.0013859830816184517\n",
            "131 1.5267859394662082 0.0013842822795522823\n",
            "141 1.459833534900099 0.0013825877235497561\n",
            "151 1.5932359239086509 0.001380899375473927\n",
            "161 1.6754170121857896 0.001379217197513051\n",
            "171 1.6311963802436367 0.00137754115217703\n",
            "181 1.4786198156070895 0.0013758712022939037\n",
            "191 1.4864103168365546 0.0013742073110063848\n",
            "201 1.2302618128014728 0.001372549441768444\n",
            "211 1.6523737748411804 0.0013708975583419374\n",
            "221 1.3257248984882608 0.001369251624793281\n",
            "231 1.474712873576209 0.0013676116054901668\n",
            "241 1.6906298116664402 0.0013659774650983218\n",
            "251 1.6934698196855607 0.001364349168578313\n",
            "261 1.9805820870678872 0.0013627266811823899\n",
            "271 2.081898067961447 0.0013611099684513704\n",
            "281 1.6405169056761224 0.0013594989962115679\n",
            "291 1.7153596825664863 0.0013578937305717556\n",
            "301 1.9362437967793085 0.0013562941379201743\n",
            "311 1.8864529359852895 0.0013547001849215732\n",
            "321 1.8258350241630978 0.0013531118385142955\n",
            "331 0.999484121799469 0.001351529065907396\n",
            "341 2.164377621244057 0.0013499518345777982\n",
            "351 1.9243792051711353 0.0013483801122674878\n",
            "361 2.6737744873098563 0.0013468138669807416\n",
            "371 1.658226325691885 0.0013452530669813914\n",
            "381 2.127615112476633 0.0013436976807901242\n",
            "391 1.8810281835030764 0.0013421476771818136\n",
            "401 1.5003755026846193 0.0013406030251828893\n",
            "411 3.19279410172021 0.001339063694068736\n",
            "421 0.3977258838713169 0.0013375296533611261\n",
            "431 1.6092324600322172 0.0013360008728256875\n",
            "441 2.018990514345205 0.0013344773224693975\n",
            "451 1.6358887814858463 0.0013329589725381145\n",
            "461 1.4230365185067058 0.0013314457935141354\n",
            "471 1.9855127776172594 0.0013299377561137855\n",
            "481 1.7793781381842564 0.00132843483128504\n",
            "491 1.6440874540712684 0.001326936990205171\n",
            "501 1.949300863489043 0.0013254442042784273\n",
            "511 1.1978645198978484 0.0013239564451337413\n",
            "521 1.8908918953961802 0.001322473684622464\n",
            "531 1.438738839700818 0.0013209958948161283\n",
            "541 1.7177454698030488 0.001319523048004239\n",
            "551 1.0844737738370895 0.0013180551166920916\n",
            "561 1.1675074426457286 0.0013165920735986156\n",
            "571 2.066543810235089 0.0013151338916542452\n",
            "581 1.9835739053924044 0.001313680543998816\n",
            "591 2.1657877970283153 0.0013122320039794864\n",
            "601 1.244029444642365 0.001310788245148685\n",
            "611 2.0320198909648752 0.001309349241262083\n",
            "621 1.4806380162772257 0.0013079149662765892\n",
            "631 1.5787700843065977 0.0013064853943483715\n",
            "641 1.3523834188235924 0.0013050604998309004\n",
            "651 1.8046439062927675 0.0013036402572730174\n",
            "661 1.965402682806598 0.0013022246414170241\n",
            "671 1.8633317321127834 0.0013008136271967974\n",
            "681 1.7960496210653218 0.0012994071897359238\n",
            "691 1.2491005770862103 0.0012980053043458585\n",
            "701 1.4869663526769727 0.0012966079465241047\n",
            "711 1.4054533320013434 0.0012952150919524146\n",
            "721 1.5362226017168723 0.0012938267164950116\n",
            "731 1.726861575509247 0.0012924427961968354\n",
            "741 2.0754416678082634 0.0012910633072818042\n",
            "751 1.5735807192886568 0.0012896882261510998\n",
            "761 1.5794394353870302 0.0012883175293814716\n",
            "771 1.4138633414695505 0.0012869511937235617\n",
            "781 1.742367216385901 0.0012855891961002475\n",
            "1 1.7034896223303804 0.0012843670883231038\n",
            "11 1.1514945439994335 0.0012830132699977455\n",
            "21 1.5012296371423872 0.0012816637237422846\n",
            "31 1.3656565978217259 0.0012803184271358503\n",
            "41 1.5892926237138454 0.0012789773579219659\n",
            "51 1.6837181529263034 0.0012776404940070005\n",
            "61 1.6791587248335418 0.001276307813458642\n",
            "71 1.0813211259737727 0.0012749792945043847\n",
            "81 0.9542439768556505 0.0012736549155300352\n",
            "91 1.9964500455535017 0.0012723346550782362\n",
            "101 1.4515113284505787 0.0012710184918470065\n",
            "111 1.265667648985982 0.0012697064046882963\n",
            "121 0.94951601017965 0.0012683983726065608\n",
            "131 1.4583512215467636 0.0012670943747573494\n",
            "141 1.0174586325883865 0.0012657943904459095\n",
            "151 1.4443723685108125 0.0012644983991258081\n",
            "161 1.4153411573070116 0.0012632063803975676\n",
            "171 1.3319651241763495 0.0012619183140073168\n",
            "181 1.574517028493574 0.0012606341798454578\n",
            "191 1.2667382519575767 0.0012593539579453471\n",
            "201 1.1361948347184807 0.0012580776284819915\n",
            "211 1.5119465988427692 0.0012568051717707599\n",
            "221 1.357634547399357 0.001255536568266106\n",
            "231 0.9910486304288497 0.0012542717985603094\n",
            "241 1.4030771847756114 0.0012530108433822275\n",
            "251 1.1260925744427368 0.001251753683596062\n",
            "261 1.2072957279451657 0.0012505003002001402\n",
            "271 1.180831833393313 0.001249250674325708\n",
            "281 1.1529223842080683 0.0012480047872357371\n",
            "291 1.351119845872745 0.0012467626203237448\n",
            "301 1.3513445003773086 0.001245524155112627\n",
            "311 1.2587184817530215 0.0012442893732535038\n",
            "321 1.28257633766043 0.0012430582565245783\n",
            "331 1.228088036790723 0.0012418307868300059\n",
            "341 1.6324733070287039 0.0012406069461987786\n",
            "351 1.160805047955364 0.0012393867167836187\n",
            "361 1.1364806790370494 0.0012381700808598865\n",
            "371 1.2190748932480346 0.0012369570208244987\n",
            "381 1.128717253683135 0.0012357475191948587\n",
            "391 1.6586110940424987 0.0012345415586077976\n",
            "401 1.4372605632524937 0.0012333391218185288\n",
            "411 1.0051230712415418 0.0012321401916996113\n",
            "421 1.5071345863980241 0.0012309447512399247\n",
            "431 1.2320558196952334 0.001229752783543657\n",
            "441 1.6373905614836985 0.0012285642718292992\n",
            "451 2.1874174326949287 0.0012273791994286555\n",
            "461 1.5448342190065887 0.0012261975497858601\n",
            "471 0.9891755203716457 0.001225019306456406\n",
            "481 1.2008220932038967 0.0012238444531061834\n",
            "491 1.261744739713322 0.00122267297351053\n",
            "501 1.3292740238830447 0.0012215048515532882\n",
            "511 1.1305320103419945 0.001220340071225875\n",
            "521 2.266826429302455 0.0012191786166263602\n",
            "531 1.2324219371876097 0.001218020471958555\n",
            "541 1.1818461741468127 0.0012168656215311086\n",
            "551 1.3200367646013547 0.001215714049756617\n",
            "561 1.2493079196137842 0.001214565741150737\n",
            "571 1.4437946634789114 0.0012134206803313147\n",
            "581 1.271788920974359 0.001212278852017517\n",
            "591 1.32476799809956 0.0012111402410289775\n",
            "601 1.2439911069959635 0.0012100048322849475\n",
            "611 1.0188917452469468 0.0012088726108034572\n",
            "621 1.1527723409235477 0.0012077435617004865\n",
            "631 1.153936791310116 0.0012066176701891417\n",
            "641 1.3357348291901872 0.0012054949215788433\n",
            "651 1.8011938779090997 0.0012043753012745194\n",
            "661 0.7620452623814344 0.0012032587947758112\n",
            "671 1.2590471174335107 0.0012021453876762819\n",
            "681 1.0758937490172684 0.0012010350656626375\n",
            "691 1.1009486425900832 0.001199927814513953\n",
            "701 1.2436011233367026 0.0011988236201009085\n",
            "711 1.4644861820670485 0.0011977224683850304\n",
            "721 1.269870056770742 0.0011966243454179432\n",
            "731 1.1699967372696847 0.0011955292373406266\n",
            "741 1.5024482774579155 0.0011944371303826819\n",
            "751 1.7946889136801474 0.001193348010861602\n",
            "761 1.3802877767266182 0.0011922618651820558\n",
            "771 0.882124955765903 0.0011911786798351712\n",
            "781 1.0495581841096282 0.001190098441397832\n",
            "1 1.2699585490736354 0.0011891287353862352\n",
            "11 1.0732387516345625 0.001188054059400419\n",
            "21 0.7934775030225865 0.0011869822918756329\n",
            "31 0.9142704835394397 0.001185913419716594\n",
            "41 1.321792419825215 0.0011848474299104165\n",
            "51 0.7593808183446527 0.0011837843095259461\n",
            "61 0.974926265378599 0.0011827240457131022\n",
            "71 1.096983245647607 0.0011816666257022245\n",
            "81 0.9047039712313563 0.0011806120368034279\n",
            "91 1.0359677065789583 0.0011795602664059622\n",
            "101 1.390616614913597 0.0011785113019775794\n",
            "111 0.9483528402342927 0.0011774651310639055\n",
            "121 0.8601845304947346 0.0011764217412878206\n",
            "131 0.8964933102251962 0.0011753811203488436\n",
            "141 0.9672920565353706 0.0011743432560225218\n",
            "151 0.9078627165708895 0.0011733081361598302\n",
            "161 0.7753104736329988 0.0011722757486865721\n",
            "171 0.9149786367197521 0.0011712460816027885\n",
            "181 1.1272220071405172 0.001170219122982172\n",
            "191 0.9137633750797249 0.0011691948609714872\n",
            "201 0.760505290934816 0.0011681732837899945\n",
            "211 1.0440809596912004 0.0011671543797288832\n",
            "221 0.8172302480088547 0.0011661381371507063\n",
            "231 0.8299822458066046 0.0011651245444888228\n",
            "241 1.3149367118894588 0.0011641135902468445\n",
            "251 1.0251678780186921 0.0011631052629980888\n",
            "261 0.8644984738202766 0.001162099551385035\n",
            "271 1.4895525582096525 0.0011610964441187898\n",
            "281 0.8862923012347892 0.001160095929978551\n",
            "291 1.4307764837981267 0.0011590979978110846\n",
            "301 1.338439912580725 0.0011581026365301988\n",
            "311 1.0586683080764487 0.0011571098351162296\n",
            "321 1.1336695126956329 0.001156119582615527\n",
            "331 0.7636040088254958 0.0011551318681399475\n",
            "341 1.3453222643342997 0.001154146680866352\n",
            "351 0.9274858061107807 0.0011531640100361064\n",
            "361 0.9915343665124965 0.0011521838449545896\n",
            "371 1.0386560062106582 0.0011512061749907035\n",
            "381 1.102577063953504 0.0011502309895763893\n",
            "391 0.9085260683204979 0.0011492582782061478\n",
            "401 1.0646098117431393 0.0011482880304365636\n",
            "411 1.1474055994331138 0.001147320235885834\n",
            "421 1.050898757239338 0.0011463548842333038\n",
            "431 1.0928250556135026 0.001145391965219001\n",
            "441 1.1477039178089399 0.001144431468643181\n",
            "451 0.9054000092437491 0.0011434733843658708\n",
            "461 1.02459942905989 0.0011425177023064205\n",
            "471 0.9142668516142294 0.0011415644124430579\n",
            "481 1.0929854145506397 0.0011406135048124466\n",
            "491 2.9609823867795058 0.001139664969509249\n",
            "501 0.8127350341528654 0.0011387187966856924\n",
            "511 0.857375011080876 0.0011377749765511408\n",
            "521 0.7582566980272532 0.0011368334993716676\n",
            "531 1.0430021076463163 0.0011358943554696356\n",
            "541 0.8258676859040861 0.0011349575352232783\n",
            "551 1.0313015000137966 0.0011340230290662863\n",
            "561 0.9577008293708786 0.0011330908274873963\n",
            "571 1.489480109923079 0.0011321609210299857\n",
            "581 0.8991406929708319 0.0011312333002916682\n",
            "591 1.2554508288731085 0.0011303079559238963\n",
            "601 1.0623034574382473 0.0011293848786315642\n",
            "611 0.8736377358727623 0.0011284640591726154\n",
            "621 0.8237916866200976 0.0011275454883576555\n",
            "631 1.0476563251386324 0.0011266291570495664\n",
            "641 1.481105067741737 0.0011257150561631234\n",
            "651 1.218383373663528 0.0011248031766646189\n",
            "661 7.710165442978905 0.001123893509571486\n",
            "671 1.0077326081227511 0.0011229860459519275\n",
            "681 1.0379173392429948 0.0011220807769245465\n",
            "691 1.1792687504203059 0.0011211776936579836\n",
            "701 1.4344053318200167 0.0011202767873705521\n",
            "711 0.9893308582832105 0.001119378049329882\n",
            "721 1.1948260416975245 0.0011184814708525628\n",
            "731 0.943302228464745 0.001117587043303792\n",
            "741 0.9657479418092407 0.001116694758097025\n",
            "751 1.1191084116308048 0.0011158046066936296\n",
            "761 1.1029272654141096 0.0011149165806025427\n",
            "771 1.03306483580036 0.0011140306713799304\n",
            "781 1.835650015502324 0.0011131468706288498\n",
            "1 0.8959734909221879 0.0011123532457934864\n",
            "11 0.7985556216844998 0.0011114734281712168\n"
          ],
          "name": "stdout"
        },
        {
          "output_type": "error",
          "ename": "KeyboardInterrupt",
          "evalue": "ignored",
          "traceback": [
            "\u001b[0;31m---------------------------------------------------------------------------\u001b[0m",
            "\u001b[0;31mKeyboardInterrupt\u001b[0m                         Traceback (most recent call last)",
            "\u001b[0;32m<ipython-input-40-491375b56d7b>\u001b[0m in \u001b[0;36m<module>\u001b[0;34m()\u001b[0m\n\u001b[1;32m      2\u001b[0m \u001b[0;32mfor\u001b[0m \u001b[0mepoch\u001b[0m \u001b[0;32min\u001b[0m \u001b[0mrange\u001b[0m\u001b[0;34m(\u001b[0m\u001b[0;36m15\u001b[0m\u001b[0;34m)\u001b[0m\u001b[0;34m:\u001b[0m\u001b[0;34m\u001b[0m\u001b[0m\n\u001b[1;32m      3\u001b[0m \u001b[0;31m#epoch=0\u001b[0m\u001b[0;34m\u001b[0m\u001b[0;34m\u001b[0m\u001b[0m\n\u001b[0;32m----> 4\u001b[0;31m   \u001b[0mtrain_epoch\u001b[0m\u001b[0;34m(\u001b[0m\u001b[0;34m(\u001b[0m\u001b[0mrebatch\u001b[0m\u001b[0;34m(\u001b[0m\u001b[0mpad_idx\u001b[0m\u001b[0;34m,\u001b[0m \u001b[0mb\u001b[0m\u001b[0;34m)\u001b[0m \u001b[0;32mfor\u001b[0m \u001b[0mb\u001b[0m \u001b[0;32min\u001b[0m \u001b[0mtrain_iter\u001b[0m\u001b[0;34m)\u001b[0m\u001b[0;34m,\u001b[0m \u001b[0mmodel\u001b[0m\u001b[0;34m,\u001b[0m \u001b[0mcriterion\u001b[0m\u001b[0;34m,\u001b[0m \u001b[0mmodel_opt\u001b[0m\u001b[0;34m)\u001b[0m\u001b[0;34m\u001b[0m\u001b[0m\n\u001b[0m\u001b[1;32m      5\u001b[0m     \u001b[0;31m#valid_epoch((rebatch(pad_idx, b) for b in valid_iter), model, criterion)\u001b[0m\u001b[0;34m\u001b[0m\u001b[0;34m\u001b[0m\u001b[0m\n",
            "\u001b[0;32m<ipython-input-30-d757f01d746b>\u001b[0m in \u001b[0;36mtrain_epoch\u001b[0;34m(train_iter, model, criterion, opt, transpose)\u001b[0m\n\u001b[1;32m      8\u001b[0m         \u001b[0mloss\u001b[0m \u001b[0;34m=\u001b[0m \u001b[0mloss_backprop\u001b[0m\u001b[0;34m(\u001b[0m\u001b[0mmodel\u001b[0m\u001b[0;34m.\u001b[0m\u001b[0mgenerator\u001b[0m\u001b[0;34m,\u001b[0m \u001b[0mcriterion\u001b[0m\u001b[0;34m,\u001b[0m \u001b[0mout\u001b[0m\u001b[0;34m,\u001b[0m \u001b[0mtrg\u001b[0m\u001b[0;34m[\u001b[0m\u001b[0;34m:\u001b[0m\u001b[0;34m,\u001b[0m \u001b[0;36m1\u001b[0m\u001b[0;34m:\u001b[0m\u001b[0;34m]\u001b[0m\u001b[0;34m,\u001b[0m \u001b[0mbatch\u001b[0m\u001b[0;34m.\u001b[0m\u001b[0mntokens\u001b[0m\u001b[0;34m)\u001b[0m\u001b[0;34m\u001b[0m\u001b[0m\n\u001b[1;32m      9\u001b[0m \u001b[0;34m\u001b[0m\u001b[0m\n\u001b[0;32m---> 10\u001b[0;31m         \u001b[0mmodel_opt\u001b[0m\u001b[0;34m.\u001b[0m\u001b[0mstep\u001b[0m\u001b[0;34m(\u001b[0m\u001b[0;34m)\u001b[0m\u001b[0;34m\u001b[0m\u001b[0m\n\u001b[0m\u001b[1;32m     11\u001b[0m         \u001b[0mmodel_opt\u001b[0m\u001b[0;34m.\u001b[0m\u001b[0moptimizer\u001b[0m\u001b[0;34m.\u001b[0m\u001b[0mzero_grad\u001b[0m\u001b[0;34m(\u001b[0m\u001b[0;34m)\u001b[0m\u001b[0;34m\u001b[0m\u001b[0m\n\u001b[1;32m     12\u001b[0m         \u001b[0;32mif\u001b[0m \u001b[0mi\u001b[0m \u001b[0;34m%\u001b[0m \u001b[0;36m10\u001b[0m \u001b[0;34m==\u001b[0m \u001b[0;36m1\u001b[0m\u001b[0;34m:\u001b[0m\u001b[0;34m\u001b[0m\u001b[0m\n",
            "\u001b[0;32m<ipython-input-23-cac760f2f089>\u001b[0m in \u001b[0;36mstep\u001b[0;34m(self)\u001b[0m\n\u001b[1;32m     16\u001b[0m             \u001b[0mp\u001b[0m\u001b[0;34m[\u001b[0m\u001b[0;34m'lr'\u001b[0m\u001b[0;34m]\u001b[0m \u001b[0;34m=\u001b[0m \u001b[0mrate\u001b[0m\u001b[0;34m\u001b[0m\u001b[0m\n\u001b[1;32m     17\u001b[0m         \u001b[0mself\u001b[0m\u001b[0;34m.\u001b[0m\u001b[0m_rate\u001b[0m \u001b[0;34m=\u001b[0m \u001b[0mrate\u001b[0m\u001b[0;34m\u001b[0m\u001b[0m\n\u001b[0;32m---> 18\u001b[0;31m         \u001b[0mself\u001b[0m\u001b[0;34m.\u001b[0m\u001b[0moptimizer\u001b[0m\u001b[0;34m.\u001b[0m\u001b[0mstep\u001b[0m\u001b[0;34m(\u001b[0m\u001b[0;34m)\u001b[0m\u001b[0;34m\u001b[0m\u001b[0m\n\u001b[0m\u001b[1;32m     19\u001b[0m \u001b[0;34m\u001b[0m\u001b[0m\n\u001b[1;32m     20\u001b[0m     \u001b[0;32mdef\u001b[0m \u001b[0mrate\u001b[0m\u001b[0;34m(\u001b[0m\u001b[0mself\u001b[0m\u001b[0;34m,\u001b[0m \u001b[0mstep\u001b[0m \u001b[0;34m=\u001b[0m \u001b[0;32mNone\u001b[0m\u001b[0;34m)\u001b[0m\u001b[0;34m:\u001b[0m\u001b[0;34m\u001b[0m\u001b[0m\n",
            "\u001b[0;32m/usr/local/lib/python3.6/dist-packages/torch/optim/adam.py\u001b[0m in \u001b[0;36mstep\u001b[0;34m(self, closure)\u001b[0m\n\u001b[1;32m     70\u001b[0m                 \u001b[0mexp_avg_sq\u001b[0m\u001b[0;34m.\u001b[0m\u001b[0mmul_\u001b[0m\u001b[0;34m(\u001b[0m\u001b[0mbeta2\u001b[0m\u001b[0;34m)\u001b[0m\u001b[0;34m.\u001b[0m\u001b[0maddcmul_\u001b[0m\u001b[0;34m(\u001b[0m\u001b[0;36m1\u001b[0m \u001b[0;34m-\u001b[0m \u001b[0mbeta2\u001b[0m\u001b[0;34m,\u001b[0m \u001b[0mgrad\u001b[0m\u001b[0;34m,\u001b[0m \u001b[0mgrad\u001b[0m\u001b[0;34m)\u001b[0m\u001b[0;34m\u001b[0m\u001b[0m\n\u001b[1;32m     71\u001b[0m \u001b[0;34m\u001b[0m\u001b[0m\n\u001b[0;32m---> 72\u001b[0;31m                 \u001b[0mdenom\u001b[0m \u001b[0;34m=\u001b[0m \u001b[0mexp_avg_sq\u001b[0m\u001b[0;34m.\u001b[0m\u001b[0msqrt\u001b[0m\u001b[0;34m(\u001b[0m\u001b[0;34m)\u001b[0m\u001b[0;34m.\u001b[0m\u001b[0madd_\u001b[0m\u001b[0;34m(\u001b[0m\u001b[0mgroup\u001b[0m\u001b[0;34m[\u001b[0m\u001b[0;34m'eps'\u001b[0m\u001b[0;34m]\u001b[0m\u001b[0;34m)\u001b[0m\u001b[0;34m\u001b[0m\u001b[0m\n\u001b[0m\u001b[1;32m     73\u001b[0m \u001b[0;34m\u001b[0m\u001b[0m\n\u001b[1;32m     74\u001b[0m                 \u001b[0mbias_correction1\u001b[0m \u001b[0;34m=\u001b[0m \u001b[0;36m1\u001b[0m \u001b[0;34m-\u001b[0m \u001b[0mbeta1\u001b[0m \u001b[0;34m**\u001b[0m \u001b[0mstate\u001b[0m\u001b[0;34m[\u001b[0m\u001b[0;34m'step'\u001b[0m\u001b[0;34m]\u001b[0m\u001b[0;34m\u001b[0m\u001b[0m\n",
            "\u001b[0;31mKeyboardInterrupt\u001b[0m: "
          ]
        }
      ]
    },
    {
      "metadata": {
        "id": "iujUn5-lqx4W",
        "colab_type": "code",
        "colab": {
          "base_uri": "https://localhost:8080/",
          "height": 565
        },
        "outputId": "2096afff-ceb3-4bfb-d832-18c7cc4365fc"
      },
      "cell_type": "code",
      "source": [
        "def greedy_decode(model, src, src_mask, max_len, start_symbol):\n",
        "    memory = model.encode(src, src_mask)\n",
        "    ys = torch.ones(1, 1).fill_(start_symbol).type_as(src.data)\n",
        "    for i in range(max_len-1):\n",
        "        out = model.decode(memory, src_mask, \n",
        "                           Variable(ys), \n",
        "                           Variable(subsequent_mask(ys.size(1))\n",
        "                                    .type_as(src.data)))\n",
        "        prob = model.generator(out[:, -1])\n",
        "        _, next_word = torch.max(prob, dim = 1)\n",
        "        next_word = next_word.data[0]\n",
        "        ys = torch.cat([ys, \n",
        "                        torch.ones(1, 1).type_as(src.data).fill_(next_word)], dim=1)\n",
        "    return ys\n",
        "\n",
        "model.eval()\n",
        "for b in range(15):\n",
        "  for i, batch in enumerate(train_iter):\n",
        "    #print(i)\n",
        "    src = batch.src.transpose(0, 1)[:1]\n",
        "    src_mask = (src != SRC.vocab.stoi[\"<blank>\"]).unsqueeze(-2)\n",
        "    out = greedy_decode(model, src, src_mask, \n",
        "                        max_len=60, start_symbol=TGT.vocab.stoi[\"<s>\"])\n",
        "    print(\"Translation:\", end=\"\\t\")\n",
        "    for i in range(1, out.size(1)):\n",
        "        sym = TGT.vocab.itos[out[0, i]]\n",
        "        if sym == \"</s>\": break\n",
        "        print(sym, end =\" \")\n",
        "    print()\n",
        "    print(\"Target:\", end=\"\\t\")\n",
        "    for i in range(1, batch.trg.size(0)):\n",
        "        sym = TGT.vocab.itos[batch.trg.data[i, 0]]\n",
        "        if sym == \"</s>\": break\n",
        "        print(sym, end =\" \")\n",
        "    print()\n",
        "    break"
      ],
      "execution_count": 41,
      "outputs": [
        {
          "output_type": "stream",
          "text": [
            "Translation:\tWhen Stephen W. Owen had spent his 90th birthday , his neighbor hired him to cut the grass in his yard and fled into the garden to the garden of all the week . \n",
            "Target:\tWhen Stephen W. Owen was 14 years old , his neighbor hired him to cut the grass in his spacious yard and weed his garden every week . \n",
            "Translation:\tAs we are confirmed , we receive the gift of the Holy Ghost , the right to have the constant influence of a member of the Godhead to guide us , to comfort us , and to protect us . He warns us when we look to Him down to the world . President Boyd K. Packer teaches that \n",
            "Target:\tWhen we are confirmed , we receive the gift of the Holy Ghost , the right to have the constant influence of a member of the Godhead to guide us , to comfort us , and to protect us . He warns us when we are tempted to walk away from our covenants and back into the world . President Boyd K. Packer teaches that none of us “ will ever make a serious mistake without first being warned by the promptings of the Holy Ghost . ” \n",
            "Translation:\tOur lives are also so . Perhaps there may be times when we are hurt , when we are tired , or our lives seem dark and cold . Perhaps there may not be any light on the horizon , and we will desire to believe if we are willing to believe , if we desire to believe , \n",
            "Target:\tOur lives can be like that too . There may be times when we have been hurt , when we are tired , and when our lives seem dark and cold . There may be times when we can not see any light on the horizon , and we may feel like giving up . If we are willing to believe , if we desire to believe , if we choose to believe , then the Savior ’s teachings and example will show us the pathway forward . \n",
            "Translation:\tYou children , children , and young women in youth programs , you young men , and you faithful missionaries , and you are doing more effectively than I could do it when I was the age of you . \n",
            "Target:\tYou children in the Primary , you young men and women in youth programs , and you stalwart missionaries now serving are doing many things more effectively than I was able to do at your age . \n",
            "Translation:\tIf we are to do God ’s will , if we are to be responsible for Him , we must begin by learning , understanding , and do our will that He wants us to do . The Lord has said , “ Wherefore , now let every man learn his duty , both as he is appointed , \n",
            "Target:\tIf we are to do God ’s will , if we are to be responsible to Him , we must begin by learning , understanding , accepting , and living according to His will for us . The Lord has said , “ Wherefore , now let every man learn his duty , and to act in the office in which he is appointed , in all diligence . ” Having the desire to do what is right is not enough if we do not make sure to understand what our Father expects from us and wants us to do . \n",
            "Translation:\tIn these last of us , some of us may have similar feelings similar to those who apply to the earth in the woods , “ If riches are a curse , God , that God is a curse , that I may never recover ! ” \n",
            "Target:\tRegarding these latter trials , some of us may have feelings similar to those expressed by Tevye in Fiddler on the Roof : If riches are a curse , “ may God smite me with it . And may I never recover ! ” \n",
            "Translation:\tJohn Taylor , who was shot four from the mob that killed Joseph , later declared : “ I testify before God , angels , and men that Joseph was a good man , and … that his character , both in public and in public , was peaceful , and lived as a man of God . ” \n",
            "Target:\tJohn Taylor , who was shot four times by the mob that killed Joseph , would later declare : “ I testify before God , angels , and men , that Joseph was a good , honorable , and virtuous man— … and that his private and public character was unimpeachable — and that he lived and died as a man of God . ” \n",
            "Translation:\tIn this vision it is clearly described by the challenges that exist in our day and the great divide between those who worship and feel accountable before God , and those who do not feel accountable before Him , and those who do not do not . \n",
            "Target:\tThis vision starkly describes the challenges to faith that exist in our day and the great divide between those who love , worship , and feel accountable to God and those who do not . \n",
            "Translation:\tIn verse 13 we read : “ And it came to pass that the voice of the Lord came to them in their afflictions , saying : Lift up your heads and be of good comfort , for I know of the covenant which ye have made unto me ; \n",
            "Target:\tIn verse 13 we read , “ And it came to pass that the voice of the Lord came to them in their afflictions , saying : Lift up your heads and be of good comfort , for I know of the covenant which ye have made unto me ; \n",
            "Translation:\tEvery member can be an example of the believers . Brethren , as followers of Jesus Christ , each of you can live according to the teachings of Him . You can have “ a pure heart and clean hands ” ; you can have “ the image of God in your countenance ” . Your good works will \n",
            "Target:\tEach member can be an example of the believers . Brethren , as followers of Jesus Christ , each of you can live in accord with His teachings . You can have “ a pure heart and clean hands ” ; you can have “ the image of God engraven upon your countenance . ” Your good works will be evident to others . The light of the Lord can beam from your eyes . With that radiance , you had better prepare for questions . The Apostle Peter so counseled , “ Be ready always to give an answer to every man that asketh you a reason of the hope that is in you . ” \n",
            "Translation:\t4 . The Sacrament Will Help Us Will Help Us Be Full of the Holy Ghost \n",
            "Target:\tV. Partaking of the Sacrament Worthily Will Help Us Be Filled with the Holy Ghost \n",
            "Translation:\t“ And my Father sent me that I might be lifted up upon the cross ; and after that I had been lifted up upon the cross , that I might draw all men unto me , that I have been lifted up by men , also being judged of the Father , to stand before me , to \n",
            "Target:\t“ And my Father sent me that I might be lifted up upon the cross ; and after that I had been lifted up upon the cross , that I might draw all men unto me , that as I have been lifted up by men even so should men be lifted up by the Father , to stand before me , to be judged of their works . ” \n",
            "Translation:\tMany of the New Testament chief rulers “ believed on the Lord ; but because of the Pharisees did not fight , lest they should be put upon the praise of men more than the praise of God ” ( John 12:42–43 ) . \n",
            "Target:\tMany of the New Testament chief rulers “ believed on the Lord ; but because of the Pharisees they did not confess him , lest they should be put out of the synagogue : for they loved the praise of men more than the praise of God ” ( John 12:42–43 ) . \n",
            "Translation:\tOne evening , after I was impressed by the change , I dreamed of myself , with my great - great - grandfather . For his wife , Mary , knew that when he and his wife , Mary , had the desire to serve , so he went to the Prophet Joseph Smith and asked how to help \n",
            "Target:\tOne night after contemplating the upcoming change , I dreamed about my great - great - grandfather Joseph Skeen . I knew from his journal that when he and his wife , Maria , moved to Nauvoo , he desired to serve , so he sought out the Prophet Joseph Smith and asked how he could help . The Prophet sent him to work on the prairie and told him to do the best he could , so he did . He worked on the Smiths’ farm . \n",
            "Translation:\t“ He then answered him , Master said , Master , Master , all I have kept from my youth . \n",
            "Target:\t“ And he answered   …   , Master , all these have I observed from my youth . \n"
          ],
          "name": "stdout"
        }
      ]
    },
    {
      "metadata": {
        "id": "1NO9lsw2UgRt",
        "colab_type": "text"
      },
      "cell_type": "markdown",
      "source": [
        "\n",
        "OTHER"
      ]
    },
    {
      "metadata": {
        "id": "B8BVm-hEUgRw",
        "colab_type": "code",
        "colab": {}
      },
      "cell_type": "code",
      "source": [
        "BOS_WORD = '<s>'\n",
        "EOS_WORD = '</s>'\n",
        "BLANK_WORD = \"<blank>\"\n",
        "SRC = data.Field()\n",
        "TGT = data.Field(init_token = BOS_WORD, eos_token = EOS_WORD, pad_token=BLANK_WORD) # only target needs BOS/EOS\n",
        "\n",
        "MAX_LEN = 100\n",
        "train = datasets.TranslationDataset(path=\"/n/home00/srush/Data/baseline-1M_train.tok.shuf\", \n",
        "                                    exts=('.en', '.fr'),\n",
        "                                    fields=(SRC, TGT), \n",
        "                                    filter_pred=lambda x: len(vars(x)['src']) <= MAX_LEN and \n",
        "                                         len(vars(x)['trg']) <= MAX_LEN)\n",
        "SRC.build_vocab(train.src, max_size=50000)\n",
        "TGT.build_vocab(train.trg, max_size=50000)"
      ],
      "execution_count": 0,
      "outputs": []
    },
    {
      "metadata": {
        "id": "eFdZyOIzUgRx",
        "colab_type": "code",
        "colab": {}
      },
      "cell_type": "code",
      "source": [
        "pad_idx = TGT.vocab.stoi[\"<blank>\"]\n",
        "print(pad_idx)\n",
        "model = make_model(len(SRC.vocab), len(TGT.vocab), pad_idx, N=6)\n",
        "model_opt = get_opt(model)\n",
        "model.cuda()"
      ],
      "execution_count": 0,
      "outputs": []
    },
    {
      "metadata": {
        "id": "cinuTkbtUgRz",
        "colab_type": "code",
        "colab": {}
      },
      "cell_type": "code",
      "source": [
        "criterion = LabelSmoothing(size=len(TGT.vocab), padding_idx=pad_idx, label_smoothing=0.1)\n",
        "criterion.cuda()\n",
        "for epoch in range(15):\n",
        "    train_epoch(train_iter, model, criterion, model_opt)\n",
        "    valid_epoch()"
      ],
      "execution_count": 0,
      "outputs": []
    },
    {
      "metadata": {
        "id": "PsoeJn4bUgR1",
        "colab_type": "code",
        "colab": {}
      },
      "cell_type": "code",
      "source": [
        ""
      ],
      "execution_count": 0,
      "outputs": []
    },
    {
      "metadata": {
        "id": "4LadFBIEUgR3",
        "colab_type": "code",
        "colab": {}
      },
      "cell_type": "code",
      "source": [
        "print(pad_idx)\n",
        "print(len(SRC.vocab))"
      ],
      "execution_count": 0,
      "outputs": []
    },
    {
      "metadata": {
        "id": "kP_Au0bHUgR7",
        "colab_type": "code",
        "colab": {}
      },
      "cell_type": "code",
      "source": [
        "torch.save(model, \"/n/rush_lab/trans_ipython.pt\")"
      ],
      "execution_count": 0,
      "outputs": []
    },
    {
      "metadata": {
        "id": "nqKKIhoOUgR-",
        "colab_type": "code",
        "colab": {}
      },
      "cell_type": "code",
      "source": [
        "#weight = torch.ones(len(TGT.vocab))\n",
        "#weight[pad_idx] = 0\n",
        "#criterion = nn.NLLLoss(size_average=False, weight=weight.cuda())\n",
        "criterion = LabelSmoothing(size=len(TGT.vocab), padding_idx=pad_idx, label_smoothing=0.1)\n",
        "criterion.cuda()\n",
        "for epoch in range(15):\n",
        "    train_epoch(train_iter, model, criterion, model_opt)"
      ],
      "execution_count": 0,
      "outputs": []
    },
    {
      "metadata": {
        "id": "35JC6i9QUgSB",
        "colab_type": "code",
        "colab": {}
      },
      "cell_type": "code",
      "source": [
        "1 10.825187489390373 6.987712429686844e-07\n",
        "101 9.447168171405792 3.56373333914029e-05\n",
        "201 7.142856806516647 7.057589553983712e-05\n",
        "301 6.237934365868568 0.00010551445768827134\n",
        "401 5.762486848048866 0.00014045301983670557\n",
        "501 5.415792358107865 0.00017539158198513977\n",
        "601 5.081815680023283 0.000210330144133574\n",
        "701 4.788327748770826 0.00024526870628200823\n",
        "801 4.381739928154275 0.0002802072684304424\n",
        "901 4.55433791608084 0.00031514583057887664\n",
        "1001 4.911875109748507 0.0003500843927273108\n",
        "1101 4.0579032292589545 0.0003850229548757451\n",
        "1201 4.2276234351193125 0.0004199615170241793\n",
        "1301 3.932735869428143 0.00045490007917261356\n",
        "1401 3.8179439397063106 0.0004898386413210477\n",
        "1501 3.3608515430241823 0.000524777203469482\n",
        "1601 3.832796103321016 0.0005597157656179162\n",
        "1701 2.907085266895592 0.0005946543277663504\n",
        "1801 3.5280659823838505 0.0006295928899147847\n",
        "1901 2.895841649500653 0.0006645314520632189\n",
        "2001 3.273784235585481 0.000699470014211653\n",
        "2101 3.181488689899197 0.0007344085763600873\n",
        "2201 3.4151616653980454 0.0007693471385085215\n",
        "2301 3.4343731447588652 0.0008042857006569557\n",
        "2401 3.0505455391539726 0.0008392242628053899\n",
        "2501 2.8089329147478566 0.0008741628249538242\n",
        "2601 2.7827929875456903 0.0009091013871022583\n",
        "2701 2.4428516102489084 0.0009440399492506926\n",
        "2801 2.4015486147254705 0.0009789785113991267\n",
        "2901 2.3568112018401735 0.001013917073547561\n",
        "3001 2.6349758653668687 0.0010488556356959952\n",
        "3101 2.5981983028614195 0.0010837941978444295\n",
        "3201 2.666826274838968 0.0011187327599928637\n",
        "3301 3.0092043554177508 0.0011536713221412978\n",
        "3401 2.4580375660589198 0.0011886098842897321\n",
        "3501 2.586465588421561 0.0012235484464381662\n",
        "3601 2.5663993963389657 0.0012584870085866006\n",
        "3701 2.9430236657499336 0.0012934255707350347\n",
        "3801 2.464644919440616 0.001328364132883469\n",
        "3901 2.7124062888276512 0.0013633026950319032\n",
        "4001 2.646443709731102 0.0013971932312809247\n",
        "4101 2.7294750874862075 0.001380057517579748\n",
        "4201 2.1295202329056337 0.0013635372009002666\n",
        "4301 2.596563663915731 0.001347596306985731\n",
        "4401 2.1265982036820787 0.0013322017384983986\n",
        "4501 2.3880532500334084 0.0013173229858148\n",
        "4601 2.6129120760888327 0.0013029318725783852\n",
        "4701 2.2873719420749694 0.001289002331178292\n",
        "4801 2.4949760700110346 0.0012755102040816328\n",
        "4901 2.496607314562425 0.001262433067573089\n",
        "5001 2.1889712483389303 0.0012497500749750088\n",
        "5101 1.8677761815488338 0.0012374418168536253\n",
        "5201 2.2992054556962103 0.0012254901960784316\n",
        "5301 2.664361578106707 0.0012138783159049418\n",
        "5401 2.705850490485318 0.0012025903795063202\n",
        "5501 2.581445264921058 0.0011916115995949978\n",
        "5601 2.2480602325085783 0.0011809281169581616\n",
        "5701 1.9289666265249252 0.0011705269268863989\n",
        "5801 2.4863578918157145 0.0011603958126073107\n",
        "5901 2.632946971571073 0.0011505232849492607\n",
        "6001 2.496141305891797 0.0011408985275576757\n",
        "6101 2.6422974687084206 0.0011315113470699342\n",
        "6201 2.448802186456305 0.0011223521277270118"
      ],
      "execution_count": 0,
      "outputs": []
    }
  ]
}